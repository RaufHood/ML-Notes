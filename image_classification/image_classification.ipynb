{
  "cells": [
    {
      "cell_type": "markdown",
      "metadata": {
        "id": "CXcBQLrmvSxH"
      },
      "source": [
        "# Multiclass classification"
      ]
    },
    {
      "cell_type": "markdown",
      "metadata": {
        "id": "b9QjopHTvSxK"
      },
      "source": [
        "### Importing libraries"
      ]
    },
    {
      "cell_type": "code",
      "execution_count": 1,
      "metadata": {
        "id": "KuHLSPOXvSxL"
      },
      "outputs": [],
      "source": [
        "import numpy as np\n",
        "import matplotlib.pyplot as plt\n",
        "\n",
        "%matplotlib inline"
      ]
    },
    {
      "cell_type": "code",
      "execution_count": 2,
      "metadata": {
        "id": "tlF3gdfrvSxN"
      },
      "outputs": [],
      "source": [
        "import tensorflow as tf\n",
        "from tensorflow import keras"
      ]
    },
    {
      "cell_type": "code",
      "execution_count": 3,
      "metadata": {
        "id": "RvON-VPYvSxS"
      },
      "outputs": [],
      "source": [
        "from tensorflow.keras.preprocessing.image import load_img"
      ]
    },
    {
      "cell_type": "code",
      "source": [
        "!git clone https://github.com/alexeygrigorev/clothing-dataset-small.git"
      ],
      "metadata": {
        "colab": {
          "base_uri": "https://localhost:8080/"
        },
        "id": "Q9uAqceJwqHf",
        "outputId": "7f5d8c3f-a020-40de-b5a6-f7c11f587260"
      },
      "execution_count": 4,
      "outputs": [
        {
          "output_type": "stream",
          "name": "stdout",
          "text": [
            "Cloning into 'clothing-dataset-small'...\n",
            "remote: Enumerating objects: 3839, done.\u001b[K\n",
            "remote: Counting objects: 100% (400/400), done.\u001b[K\n",
            "remote: Compressing objects: 100% (400/400), done.\u001b[K\n",
            "remote: Total 3839 (delta 9), reused 385 (delta 0), pack-reused 3439 (from 1)\u001b[K\n",
            "Receiving objects: 100% (3839/3839), 100.58 MiB | 12.96 MiB/s, done.\n",
            "Resolving deltas: 100% (10/10), done.\n"
          ]
        }
      ]
    },
    {
      "cell_type": "code",
      "execution_count": 5,
      "metadata": {
        "id": "ASgRYIrkvSxT"
      },
      "outputs": [],
      "source": [
        "path = './clothing-dataset-small/train/t-shirt'\n",
        "name = '0add1694-17d0-46ec-a9fc-900da252af41.jpg'\n",
        "fullname = f'{path}/{name}'"
      ]
    },
    {
      "cell_type": "code",
      "execution_count": 6,
      "metadata": {
        "id": "GfshX1yivSxV"
      },
      "outputs": [],
      "source": [
        "img = load_img(fullname, target_size=(299,299))"
      ]
    },
    {
      "cell_type": "code",
      "execution_count": 7,
      "metadata": {
        "colab": {
          "base_uri": "https://localhost:8080/"
        },
        "id": "b8fVgTLyvSxY",
        "outputId": "c845c69f-42ed-4844-e3e3-0be75018ec8e"
      },
      "outputs": [
        {
          "output_type": "execute_result",
          "data": {
            "text/plain": [
              "(299, 299, 3)"
            ]
          },
          "metadata": {},
          "execution_count": 7
        }
      ],
      "source": [
        "x = np.array(img)\n",
        "x.shape"
      ]
    },
    {
      "cell_type": "markdown",
      "metadata": {
        "id": "p3uLSCrivSxa"
      },
      "source": [
        "### Loading an exisiting model: ImageNet"
      ]
    },
    {
      "cell_type": "code",
      "execution_count": 8,
      "metadata": {
        "id": "MTmW9A3LvSxb"
      },
      "outputs": [],
      "source": [
        "from keras.applications.xception import Xception, preprocess_input, decode_predictions\n"
      ]
    },
    {
      "cell_type": "code",
      "execution_count": 9,
      "metadata": {
        "colab": {
          "base_uri": "https://localhost:8080/"
        },
        "id": "l9UXtILPvSxb",
        "outputId": "75be702a-e70b-4c74-a6d0-b6f2c74badf6"
      },
      "outputs": [
        {
          "output_type": "stream",
          "name": "stdout",
          "text": [
            "Downloading data from https://storage.googleapis.com/tensorflow/keras-applications/xception/xception_weights_tf_dim_ordering_tf_kernels.h5\n",
            "\u001b[1m91884032/91884032\u001b[0m \u001b[32m━━━━━━━━━━━━━━━━━━━━\u001b[0m\u001b[37m\u001b[0m \u001b[1m6s\u001b[0m 0us/step\n"
          ]
        }
      ],
      "source": [
        "model = Xception(weights= 'imagenet', input_shape=(299,299,3))"
      ]
    },
    {
      "cell_type": "code",
      "execution_count": 10,
      "metadata": {
        "id": "_CF183GjvSxc"
      },
      "outputs": [],
      "source": [
        "X = np.array([x])"
      ]
    },
    {
      "cell_type": "code",
      "execution_count": 11,
      "metadata": {
        "colab": {
          "base_uri": "https://localhost:8080/"
        },
        "id": "0rEFga0HvSxd",
        "outputId": "c1d62fc4-8cd3-48e2-b538-9c9297620346"
      },
      "outputs": [
        {
          "output_type": "execute_result",
          "data": {
            "text/plain": [
              "(1, 299, 299, 3)"
            ]
          },
          "metadata": {},
          "execution_count": 11
        }
      ],
      "source": [
        "X.shape"
      ]
    },
    {
      "cell_type": "code",
      "execution_count": 12,
      "metadata": {
        "id": "MOLvIVxuvSxe"
      },
      "outputs": [],
      "source": [
        "X = preprocess_input(X)"
      ]
    },
    {
      "cell_type": "code",
      "execution_count": 13,
      "metadata": {
        "id": "yK_c9LQ0vSxe"
      },
      "outputs": [],
      "source": [
        "#X[0]"
      ]
    },
    {
      "cell_type": "code",
      "execution_count": 14,
      "metadata": {
        "colab": {
          "base_uri": "https://localhost:8080/"
        },
        "id": "7e-8v_jqvSxf",
        "outputId": "d2b5a767-5dd4-468b-9455-86df8fe91e5c"
      },
      "outputs": [
        {
          "output_type": "stream",
          "name": "stdout",
          "text": [
            "\u001b[1m1/1\u001b[0m \u001b[32m━━━━━━━━━━━━━━━━━━━━\u001b[0m\u001b[37m\u001b[0m \u001b[1m6s\u001b[0m 6s/step\n"
          ]
        }
      ],
      "source": [
        "pred = model.predict(X)"
      ]
    },
    {
      "cell_type": "code",
      "execution_count": 15,
      "metadata": {
        "colab": {
          "base_uri": "https://localhost:8080/"
        },
        "id": "rY5TDkZ5vSxf",
        "outputId": "c8a4c5ec-3693-42da-c0a2-c363a2dc39b0"
      },
      "outputs": [
        {
          "output_type": "execute_result",
          "data": {
            "text/plain": [
              "(1, 1000)"
            ]
          },
          "metadata": {},
          "execution_count": 15
        }
      ],
      "source": [
        "pred.shape # 1000 classes"
      ]
    },
    {
      "cell_type": "code",
      "execution_count": 16,
      "metadata": {
        "colab": {
          "base_uri": "https://localhost:8080/"
        },
        "id": "AkaUY3r9vSxg",
        "outputId": "63235b0f-e29e-4694-c53c-8426c1bd7a62"
      },
      "outputs": [
        {
          "output_type": "stream",
          "name": "stdout",
          "text": [
            "Downloading data from https://storage.googleapis.com/download.tensorflow.org/data/imagenet_class_index.json\n",
            "\u001b[1m35363/35363\u001b[0m \u001b[32m━━━━━━━━━━━━━━━━━━━━\u001b[0m\u001b[37m\u001b[0m \u001b[1m0s\u001b[0m 1us/step\n"
          ]
        },
        {
          "output_type": "execute_result",
          "data": {
            "text/plain": [
              "[[('n03595614', 'jersey', 0.90512043),\n",
              "  ('n04370456', 'sweatshirt', 0.022706838),\n",
              "  ('n03710637', 'maillot', 0.0026601837),\n",
              "  ('n03877472', 'pajama', 0.0020855682),\n",
              "  ('n02834397', 'bib', 0.0016421458)]]"
            ]
          },
          "metadata": {},
          "execution_count": 16
        }
      ],
      "source": [
        "decode_predictions(pred)"
      ]
    },
    {
      "cell_type": "markdown",
      "metadata": {
        "id": "mo8rmgM-vSxh"
      },
      "source": [
        "## Transfer Learning"
      ]
    },
    {
      "cell_type": "code",
      "execution_count": 17,
      "metadata": {
        "colab": {
          "base_uri": "https://localhost:8080/"
        },
        "id": "uEWQoGDjvSxi",
        "outputId": "526e45cc-91af-4fca-dbcd-33e739f0e1d7"
      },
      "outputs": [
        {
          "output_type": "stream",
          "name": "stdout",
          "text": [
            "Num GPUs Available:  1\n"
          ]
        }
      ],
      "source": [
        "import tensorflow as tf\n",
        "print(\"Num GPUs Available: \", len(tf.config.list_physical_devices('GPU')))\n"
      ]
    },
    {
      "cell_type": "code",
      "execution_count": 18,
      "metadata": {
        "id": "ixnMs6aVvSxi"
      },
      "outputs": [],
      "source": [
        "from tensorflow.keras.preprocessing.image import ImageDataGenerator\n",
        "# for reading the images"
      ]
    },
    {
      "cell_type": "code",
      "execution_count": 19,
      "metadata": {
        "id": "5FLIzlz9vSxj"
      },
      "outputs": [],
      "source": [
        "train_gen = ImageDataGenerator(preprocessing_function=preprocess_input)\n",
        "val_gen = ImageDataGenerator(preprocessing_function=preprocess_input)"
      ]
    },
    {
      "cell_type": "code",
      "execution_count": 78,
      "metadata": {
        "colab": {
          "base_uri": "https://localhost:8080/"
        },
        "id": "UuwGcayIvSxk",
        "outputId": "61a51b67-559d-4234-a413-31a956a00324"
      },
      "outputs": [
        {
          "output_type": "stream",
          "name": "stdout",
          "text": [
            "Found 341 images belonging to 10 classes.\n",
            "Found 3068 images belonging to 10 classes.\n"
          ]
        }
      ],
      "source": [
        "val_ds = val_gen.flow_from_directory(\n",
        "    './clothing-dataset-small/validation',\n",
        "    target_size=(150,150),\n",
        "    batch_size=32\n",
        ")\n",
        "\n",
        "train_ds = train_gen.flow_from_directory(\n",
        "    './clothing-dataset-small/train',\n",
        "    target_size=(150,150),\n",
        "    batch_size=32,\n",
        "    shuffle = False\n",
        ")"
      ]
    },
    {
      "cell_type": "markdown",
      "metadata": {
        "id": "x5dXWd-tvSxl"
      },
      "source": [
        "32, 150, 150, 3"
      ]
    },
    {
      "cell_type": "code",
      "execution_count": 21,
      "metadata": {
        "colab": {
          "base_uri": "https://localhost:8080/"
        },
        "id": "ai73KqNlvSxm",
        "outputId": "43eecf65-b8d3-4884-ac94-7c57c172ef85"
      },
      "outputs": [
        {
          "output_type": "execute_result",
          "data": {
            "text/plain": [
              "{'dress': 0,\n",
              " 'hat': 1,\n",
              " 'longsleeve': 2,\n",
              " 'outwear': 3,\n",
              " 'pants': 4,\n",
              " 'shirt': 5,\n",
              " 'shoes': 6,\n",
              " 'shorts': 7,\n",
              " 'skirt': 8,\n",
              " 't-shirt': 9}"
            ]
          },
          "metadata": {},
          "execution_count": 21
        }
      ],
      "source": [
        "train_ds.class_indices"
      ]
    },
    {
      "cell_type": "code",
      "execution_count": 22,
      "metadata": {
        "id": "36I-Wlm4vSxm"
      },
      "outputs": [],
      "source": [
        "X, y = next(train_ds)"
      ]
    },
    {
      "cell_type": "code",
      "execution_count": 23,
      "metadata": {
        "colab": {
          "base_uri": "https://localhost:8080/"
        },
        "id": "oUe2Yns6vSxn",
        "outputId": "27c1aeac-34f0-40df-bcf6-055a2fa70884"
      },
      "outputs": [
        {
          "output_type": "execute_result",
          "data": {
            "text/plain": [
              "(32, 150, 150, 3)"
            ]
          },
          "metadata": {},
          "execution_count": 23
        }
      ],
      "source": [
        "X.shape"
      ]
    },
    {
      "cell_type": "code",
      "execution_count": 24,
      "metadata": {
        "colab": {
          "base_uri": "https://localhost:8080/"
        },
        "id": "l51JvFH8vSxo",
        "outputId": "94981601-f0c3-4e38-d101-43d0ffb406de"
      },
      "outputs": [
        {
          "output_type": "execute_result",
          "data": {
            "text/plain": [
              "array([[1., 0., 0., 0., 0., 0., 0., 0., 0., 0.],\n",
              "       [1., 0., 0., 0., 0., 0., 0., 0., 0., 0.],\n",
              "       [1., 0., 0., 0., 0., 0., 0., 0., 0., 0.],\n",
              "       [1., 0., 0., 0., 0., 0., 0., 0., 0., 0.],\n",
              "       [1., 0., 0., 0., 0., 0., 0., 0., 0., 0.]], dtype=float32)"
            ]
          },
          "metadata": {},
          "execution_count": 24
        }
      ],
      "source": [
        "y[:5] # one hot encoded casses\n",
        "# 1 column is the class and one row is one training sample"
      ]
    },
    {
      "cell_type": "markdown",
      "metadata": {
        "id": "bqi-J0GFvSxo"
      },
      "source": [
        "## Model Training"
      ]
    },
    {
      "cell_type": "code",
      "execution_count": 25,
      "metadata": {
        "colab": {
          "base_uri": "https://localhost:8080/"
        },
        "id": "LetCv5hKvSxp",
        "outputId": "45030965-ef75-4fdc-de8e-2658f2e50367"
      },
      "outputs": [
        {
          "output_type": "stream",
          "name": "stdout",
          "text": [
            "Downloading data from https://storage.googleapis.com/tensorflow/keras-applications/xception/xception_weights_tf_dim_ordering_tf_kernels_notop.h5\n",
            "\u001b[1m83683744/83683744\u001b[0m \u001b[32m━━━━━━━━━━━━━━━━━━━━\u001b[0m\u001b[37m\u001b[0m \u001b[1m5s\u001b[0m 0us/step\n"
          ]
        }
      ],
      "source": [
        "#include top = False, removes the dense layers\n",
        "base_model = Xception(\n",
        "    weights='imagenet',\n",
        "    include_top = False,\n",
        "    input_shape=(150,150,3)\n",
        ")\n",
        "\n",
        "base_model.trainable = False\n",
        "\n",
        "inputs = keras.Input(shape=(150,150,3))\n",
        "\n",
        "base = base_model(inputs, training = False)\n",
        "\n",
        "# apply average pooling\n",
        "pooling = keras.layers.GlobalAveragePooling2D()\n",
        "\n",
        "vectors = pooling(base)\n",
        "\n",
        "outputs = keras.layers.Dense(10)(vectors)\n",
        "\n",
        "model = keras.Model(inputs, outputs)"
      ]
    },
    {
      "cell_type": "code",
      "execution_count": 26,
      "metadata": {
        "colab": {
          "base_uri": "https://localhost:8080/"
        },
        "id": "8HCbWNimvSxq",
        "outputId": "c8cad8a8-5869-490f-c62d-f0d99e9f554c"
      },
      "outputs": [
        {
          "output_type": "execute_result",
          "data": {
            "text/plain": [
              "(None, 10)"
            ]
          },
          "metadata": {},
          "execution_count": 26
        }
      ],
      "source": [
        "outputs.shape"
      ]
    },
    {
      "cell_type": "code",
      "execution_count": 27,
      "metadata": {
        "colab": {
          "base_uri": "https://localhost:8080/"
        },
        "id": "PEp4tYfPvSxq",
        "outputId": "0b447d52-37f6-422e-9184-0b9a06bb8798"
      },
      "outputs": [
        {
          "output_type": "stream",
          "name": "stdout",
          "text": [
            "\u001b[1m1/1\u001b[0m \u001b[32m━━━━━━━━━━━━━━━━━━━━\u001b[0m\u001b[37m\u001b[0m \u001b[1m7s\u001b[0m 7s/step\n"
          ]
        }
      ],
      "source": [
        "preds = model.predict(X)"
      ]
    },
    {
      "cell_type": "code",
      "execution_count": 28,
      "metadata": {
        "colab": {
          "base_uri": "https://localhost:8080/"
        },
        "id": "g7VmaaGbvSxr",
        "outputId": "09bcf7c5-0298-4385-fc50-3c07d4b7f1d6"
      },
      "outputs": [
        {
          "output_type": "execute_result",
          "data": {
            "text/plain": [
              "(32, 10)"
            ]
          },
          "metadata": {},
          "execution_count": 28
        }
      ],
      "source": [
        "preds.shape"
      ]
    },
    {
      "cell_type": "code",
      "execution_count": 29,
      "metadata": {
        "id": "ydWlth1RvSxr"
      },
      "outputs": [],
      "source": [
        "learning_rate = 0.01\n",
        "optimizer = keras.optimizers.Adam(learning_rate = learning_rate)\n",
        "loss = keras.losses.CategoricalCrossentropy(from_logits = True)\n",
        "# binary classification: binary cross entropy\n",
        "# multi-class classification: categorical cross entropy\n",
        "# regression: mean squared error"
      ]
    },
    {
      "cell_type": "code",
      "execution_count": 30,
      "metadata": {
        "id": "p5qOINj_vSxr"
      },
      "outputs": [],
      "source": [
        "model.compile(optimizer=optimizer, loss = loss, metrics = ['accuracy'])"
      ]
    },
    {
      "cell_type": "code",
      "execution_count": 31,
      "metadata": {
        "colab": {
          "base_uri": "https://localhost:8080/"
        },
        "id": "OQEV5mjWvSxt",
        "outputId": "d73e4c5a-153b-402c-e279-8000f175af7c"
      },
      "outputs": [
        {
          "output_type": "stream",
          "name": "stdout",
          "text": [
            "Epoch 1/5\n"
          ]
        },
        {
          "output_type": "stream",
          "name": "stderr",
          "text": [
            "/usr/local/lib/python3.10/dist-packages/keras/src/trainers/data_adapters/py_dataset_adapter.py:121: UserWarning: Your `PyDataset` class should call `super().__init__(**kwargs)` in its constructor. `**kwargs` can include `workers`, `use_multiprocessing`, `max_queue_size`. Do not pass these arguments to `fit()`, as they will be ignored.\n",
            "  self._warn_if_super_not_called()\n"
          ]
        },
        {
          "output_type": "stream",
          "name": "stdout",
          "text": [
            "\u001b[1m96/96\u001b[0m \u001b[32m━━━━━━━━━━━━━━━━━━━━\u001b[0m\u001b[37m\u001b[0m \u001b[1m28s\u001b[0m 214ms/step - accuracy: 0.3609 - loss: 6.5469 - val_accuracy: 0.6393 - val_loss: 2.1015\n",
            "Epoch 2/5\n",
            "\u001b[1m96/96\u001b[0m \u001b[32m━━━━━━━━━━━━━━━━━━━━\u001b[0m\u001b[37m\u001b[0m \u001b[1m30s\u001b[0m 125ms/step - accuracy: 0.6654 - loss: 2.1546 - val_accuracy: 0.7654 - val_loss: 0.9802\n",
            "Epoch 3/5\n",
            "\u001b[1m96/96\u001b[0m \u001b[32m━━━━━━━━━━━━━━━━━━━━\u001b[0m\u001b[37m\u001b[0m \u001b[1m16s\u001b[0m 85ms/step - accuracy: 0.7292 - loss: 1.1658 - val_accuracy: 0.6628 - val_loss: 2.2767\n",
            "Epoch 4/5\n",
            "\u001b[1m96/96\u001b[0m \u001b[32m━━━━━━━━━━━━━━━━━━━━\u001b[0m\u001b[37m\u001b[0m \u001b[1m10s\u001b[0m 84ms/step - accuracy: 0.7119 - loss: 1.6997 - val_accuracy: 0.6891 - val_loss: 2.1132\n",
            "Epoch 5/5\n",
            "\u001b[1m96/96\u001b[0m \u001b[32m━━━━━━━━━━━━━━━━━━━━\u001b[0m\u001b[37m\u001b[0m \u001b[1m14s\u001b[0m 120ms/step - accuracy: 0.7534 - loss: 1.5082 - val_accuracy: 0.7361 - val_loss: 1.8494\n"
          ]
        }
      ],
      "source": [
        "history = model.fit(train_ds, epochs = 5, validation_data = val_ds)"
      ]
    },
    {
      "cell_type": "code",
      "execution_count": 32,
      "metadata": {
        "colab": {
          "base_uri": "https://localhost:8080/"
        },
        "id": "fp-8oJSzvSxt",
        "outputId": "85f20929-cd0e-4df9-cb83-06966942eb7d"
      },
      "outputs": [
        {
          "output_type": "execute_result",
          "data": {
            "text/plain": [
              "{'accuracy': [0.46349412202835083,\n",
              "  0.6473272442817688,\n",
              "  0.720664918422699,\n",
              "  0.7001304030418396,\n",
              "  0.7956323623657227],\n",
              " 'loss': [5.19904899597168,\n",
              "  2.0825672149658203,\n",
              "  1.3041102886199951,\n",
              "  1.8503462076187134,\n",
              "  1.1695479154586792],\n",
              " 'val_accuracy': [0.6392961740493774,\n",
              "  0.7653958797454834,\n",
              "  0.662756621837616,\n",
              "  0.6891495585441589,\n",
              "  0.7360703945159912],\n",
              " 'val_loss': [2.1015305519104004,\n",
              "  0.9802435040473938,\n",
              "  2.2767157554626465,\n",
              "  2.1132311820983887,\n",
              "  1.8493788242340088]}"
            ]
          },
          "metadata": {},
          "execution_count": 32
        }
      ],
      "source": [
        "history.history"
      ]
    },
    {
      "cell_type": "code",
      "source": [
        "\n",
        "plt.plot(history.history['accuracy'], label='train')\n",
        "plt.plot(history.history['val_accuracy'], label='val')\n",
        "plt.legend()"
      ],
      "metadata": {
        "id": "NpFKdKrIydk3",
        "outputId": "1387e247-6b60-44f8-9d59-ad9f4d1f1e08",
        "colab": {
          "base_uri": "https://localhost:8080/",
          "height": 447
        }
      },
      "execution_count": 33,
      "outputs": [
        {
          "output_type": "execute_result",
          "data": {
            "text/plain": [
              "<matplotlib.legend.Legend at 0x7d7fd87e9de0>"
            ]
          },
          "metadata": {},
          "execution_count": 33
        },
        {
          "output_type": "display_data",
          "data": {
            "text/plain": [
              "<Figure size 640x480 with 1 Axes>"
            ],
            "image/png": "[encoded data removed]"
          },
          "metadata": {}
        }
      ]
    },
    {
      "cell_type": "markdown",
      "source": [
        "## Model Tuning"
      ],
      "metadata": {
        "id": "hQrBPhSYxULG"
      }
    },
    {
      "cell_type": "code",
      "source": [
        "def make_model(learning_rate):\n",
        "  #include top = False, removes the dense layers\n",
        "  base_model = Xception(\n",
        "      weights='imagenet',\n",
        "      include_top = False,\n",
        "      input_shape=(150,150,3)\n",
        "  )\n",
        "\n",
        "  base_model.trainable = False\n",
        "\n",
        "  #################################\n",
        "  inputs = keras.Input(shape=(150,150,3))\n",
        "  base = base_model(inputs, training = False)\n",
        "  # apply average pooling\n",
        "  pooling = keras.layers.GlobalAveragePooling2D()\n",
        "  vectors = pooling(base)\n",
        "  outputs = keras.layers.Dense(10)(vectors)\n",
        "  model = keras.Model(inputs, outputs)\n",
        "  ##################################\n",
        "\n",
        "  optimizer = keras.optimizers.Adam(learning_rate = learning_rate)\n",
        "  loss = keras.losses.CategoricalCrossentropy(from_logits = True)\n",
        "  model.compile(optimizer=optimizer, loss = loss, metrics = ['accuracy'])\n",
        "  return model\n"
      ],
      "metadata": {
        "id": "R67KdCT_xWfp"
      },
      "execution_count": 38,
      "outputs": []
    },
    {
      "cell_type": "code",
      "source": [
        "scores = {}\n",
        "for lr in [0.0001, 0.001, 0.01, 0.1]:\n",
        "  print(lr)\n",
        "  model = make_model(learning_rate = lr)\n",
        "  history = model.fit(train_ds, epochs = 10, validation_data = val_ds)\n",
        "  scores[lr] = history.history\n",
        "  print()\n",
        "  print()"
      ],
      "metadata": {
        "id": "iCOM2NmAzsMX",
        "outputId": "e6d53327-a604-489e-92b0-0712295e16db",
        "colab": {
          "base_uri": "https://localhost:8080/"
        }
      },
      "execution_count": 39,
      "outputs": [
        {
          "output_type": "stream",
          "name": "stdout",
          "text": [
            "0.0001\n",
            "Epoch 1/10\n",
            "\u001b[1m96/96\u001b[0m \u001b[32m━━━━━━━━━━━━━━━━━━━━\u001b[0m\u001b[37m\u001b[0m \u001b[1m20s\u001b[0m 142ms/step - accuracy: 0.1936 - loss: 2.2730 - val_accuracy: 0.3724 - val_loss: 1.9160\n",
            "Epoch 2/10\n",
            "\u001b[1m96/96\u001b[0m \u001b[32m━━━━━━━━━━━━━━━━━━━━\u001b[0m\u001b[37m\u001b[0m \u001b[1m16s\u001b[0m 105ms/step - accuracy: 0.4090 - loss: 1.8341 - val_accuracy: 0.4604 - val_loss: 1.6446\n",
            "Epoch 3/10\n",
            "\u001b[1m96/96\u001b[0m \u001b[32m━━━━━━━━━━━━━━━━━━━━\u001b[0m\u001b[37m\u001b[0m \u001b[1m9s\u001b[0m 86ms/step - accuracy: 0.4582 - loss: 1.6839 - val_accuracy: 0.5367 - val_loss: 1.4586\n",
            "Epoch 4/10\n",
            "\u001b[1m96/96\u001b[0m \u001b[32m━━━━━━━━━━━━━━━━━━━━\u001b[0m\u001b[37m\u001b[0m \u001b[1m10s\u001b[0m 85ms/step - accuracy: 0.5620 - loss: 1.3674 - val_accuracy: 0.5894 - val_loss: 1.3223\n",
            "Epoch 5/10\n",
            "\u001b[1m96/96\u001b[0m \u001b[32m━━━━━━━━━━━━━━━━━━━━\u001b[0m\u001b[37m\u001b[0m \u001b[1m8s\u001b[0m 77ms/step - accuracy: 0.5674 - loss: 1.3489 - val_accuracy: 0.6129 - val_loss: 1.2196\n",
            "Epoch 6/10\n",
            "\u001b[1m96/96\u001b[0m \u001b[32m━━━━━━━━━━━━━━━━━━━━\u001b[0m\u001b[37m\u001b[0m \u001b[1m12s\u001b[0m 89ms/step - accuracy: 0.6391 - loss: 1.1451 - val_accuracy: 0.6481 - val_loss: 1.1387\n",
            "Epoch 7/10\n",
            "\u001b[1m96/96\u001b[0m \u001b[32m━━━━━━━━━━━━━━━━━━━━\u001b[0m\u001b[37m\u001b[0m \u001b[1m9s\u001b[0m 86ms/step - accuracy: 0.6622 - loss: 1.0806 - val_accuracy: 0.6598 - val_loss: 1.0823\n",
            "Epoch 8/10\n",
            "\u001b[1m96/96\u001b[0m \u001b[32m━━━━━━━━━━━━━━━━━━━━\u001b[0m\u001b[37m\u001b[0m \u001b[1m8s\u001b[0m 80ms/step - accuracy: 0.6483 - loss: 1.0710 - val_accuracy: 0.6833 - val_loss: 1.0308\n",
            "Epoch 9/10\n",
            "\u001b[1m96/96\u001b[0m \u001b[32m━━━━━━━━━━━━━━━━━━━━\u001b[0m\u001b[37m\u001b[0m \u001b[1m9s\u001b[0m 87ms/step - accuracy: 0.6962 - loss: 0.9802 - val_accuracy: 0.7009 - val_loss: 0.9820\n",
            "Epoch 10/10\n",
            "\u001b[1m96/96\u001b[0m \u001b[32m━━━━━━━━━━━━━━━━━━━━\u001b[0m\u001b[37m\u001b[0m \u001b[1m10s\u001b[0m 99ms/step - accuracy: 0.7233 - loss: 0.9124 - val_accuracy: 0.7097 - val_loss: 0.9535\n",
            "\n",
            "\n",
            "0.001\n",
            "Epoch 1/10\n",
            "\u001b[1m96/96\u001b[0m \u001b[32m━━━━━━━━━━━━━━━━━━━━\u001b[0m\u001b[37m\u001b[0m \u001b[1m22s\u001b[0m 150ms/step - accuracy: 0.2170 - loss: 2.6134 - val_accuracy: 0.5367 - val_loss: 1.4400\n",
            "Epoch 2/10\n",
            "\u001b[1m96/96\u001b[0m \u001b[32m━━━━━━━━━━━━━━━━━━━━\u001b[0m\u001b[37m\u001b[0m \u001b[1m8s\u001b[0m 79ms/step - accuracy: 0.5713 - loss: 1.2865 - val_accuracy: 0.5924 - val_loss: 1.1696\n",
            "Epoch 3/10\n",
            "\u001b[1m96/96\u001b[0m \u001b[32m━━━━━━━━━━━━━━━━━━━━\u001b[0m\u001b[37m\u001b[0m \u001b[1m11s\u001b[0m 94ms/step - accuracy: 0.6447 - loss: 1.0032 - val_accuracy: 0.7683 - val_loss: 0.7434\n",
            "Epoch 4/10\n",
            "\u001b[1m96/96\u001b[0m \u001b[32m━━━━━━━━━━━━━━━━━━━━\u001b[0m\u001b[37m\u001b[0m \u001b[1m9s\u001b[0m 89ms/step - accuracy: 0.7426 - loss: 0.7265 - val_accuracy: 0.7214 - val_loss: 0.8857\n",
            "Epoch 5/10\n",
            "\u001b[1m96/96\u001b[0m \u001b[32m━━━━━━━━━━━━━━━━━━━━\u001b[0m\u001b[37m\u001b[0m \u001b[1m10s\u001b[0m 84ms/step - accuracy: 0.7413 - loss: 0.7229 - val_accuracy: 0.7097 - val_loss: 0.8101\n",
            "Epoch 6/10\n",
            "\u001b[1m96/96\u001b[0m \u001b[32m━━━━━━━━━━━━━━━━━━━━\u001b[0m\u001b[37m\u001b[0m \u001b[1m10s\u001b[0m 95ms/step - accuracy: 0.7290 - loss: 0.7264 - val_accuracy: 0.7977 - val_loss: 0.6268\n",
            "Epoch 7/10\n",
            "\u001b[1m96/96\u001b[0m \u001b[32m━━━━━━━━━━━━━━━━━━━━\u001b[0m\u001b[37m\u001b[0m \u001b[1m10s\u001b[0m 96ms/step - accuracy: 0.8307 - loss: 0.5046 - val_accuracy: 0.7625 - val_loss: 0.6945\n",
            "Epoch 8/10\n",
            "\u001b[1m96/96\u001b[0m \u001b[32m━━━━━━━━━━━━━━━━━━━━\u001b[0m\u001b[37m\u001b[0m \u001b[1m9s\u001b[0m 91ms/step - accuracy: 0.8446 - loss: 0.4747 - val_accuracy: 0.7595 - val_loss: 0.7122\n",
            "Epoch 9/10\n",
            "\u001b[1m96/96\u001b[0m \u001b[32m━━━━━━━━━━━━━━━━━━━━\u001b[0m\u001b[37m\u001b[0m \u001b[1m15s\u001b[0m 138ms/step - accuracy: 0.7865 - loss: 0.5661 - val_accuracy: 0.7830 - val_loss: 0.6821\n",
            "Epoch 10/10\n",
            "\u001b[1m96/96\u001b[0m \u001b[32m━━━━━━━━━━━━━━━━━━━━\u001b[0m\u001b[37m\u001b[0m \u001b[1m17s\u001b[0m 98ms/step - accuracy: 0.8335 - loss: 0.4676 - val_accuracy: 0.7889 - val_loss: 0.5985\n",
            "\n",
            "\n",
            "0.01\n",
            "Epoch 1/10\n",
            "\u001b[1m96/96\u001b[0m \u001b[32m━━━━━━━━━━━━━━━━━━━━\u001b[0m\u001b[37m\u001b[0m \u001b[1m23s\u001b[0m 155ms/step - accuracy: 0.2883 - loss: 7.7081 - val_accuracy: 0.4282 - val_loss: 3.5453\n",
            "Epoch 2/10\n",
            "\u001b[1m96/96\u001b[0m \u001b[32m━━━━━━━━━━━━━━━━━━━━\u001b[0m\u001b[37m\u001b[0m \u001b[1m12s\u001b[0m 108ms/step - accuracy: 0.5981 - loss: 2.6906 - val_accuracy: 0.7243 - val_loss: 1.6471\n",
            "Epoch 3/10\n",
            "\u001b[1m96/96\u001b[0m \u001b[32m━━━━━━━━━━━━━━━━━━━━\u001b[0m\u001b[37m\u001b[0m \u001b[1m20s\u001b[0m 104ms/step - accuracy: 0.6992 - loss: 1.7979 - val_accuracy: 0.7273 - val_loss: 1.6775\n",
            "Epoch 4/10\n",
            "\u001b[1m96/96\u001b[0m \u001b[32m━━━━━━━━━━━━━━━━━━━━\u001b[0m\u001b[37m\u001b[0m \u001b[1m12s\u001b[0m 117ms/step - accuracy: 0.8027 - loss: 0.9939 - val_accuracy: 0.7859 - val_loss: 0.9677\n",
            "Epoch 5/10\n",
            "\u001b[1m96/96\u001b[0m \u001b[32m━━━━━━━━━━━━━━━━━━━━\u001b[0m\u001b[37m\u001b[0m \u001b[1m19s\u001b[0m 97ms/step - accuracy: 0.7926 - loss: 1.1260 - val_accuracy: 0.7126 - val_loss: 1.8445\n",
            "Epoch 6/10\n",
            "\u001b[1m96/96\u001b[0m \u001b[32m━━━━━━━━━━━━━━━━━━━━\u001b[0m\u001b[37m\u001b[0m \u001b[1m8s\u001b[0m 78ms/step - accuracy: 0.7955 - loss: 1.0128 - val_accuracy: 0.7155 - val_loss: 1.3013\n",
            "Epoch 7/10\n",
            "\u001b[1m96/96\u001b[0m \u001b[32m━━━━━━━━━━━━━━━━━━━━\u001b[0m\u001b[37m\u001b[0m \u001b[1m10s\u001b[0m 100ms/step - accuracy: 0.8153 - loss: 0.8552 - val_accuracy: 0.7566 - val_loss: 1.5320\n",
            "Epoch 8/10\n",
            "\u001b[1m96/96\u001b[0m \u001b[32m━━━━━━━━━━━━━━━━━━━━\u001b[0m\u001b[37m\u001b[0m \u001b[1m9s\u001b[0m 89ms/step - accuracy: 0.8613 - loss: 0.5482 - val_accuracy: 0.7859 - val_loss: 1.3152\n",
            "Epoch 9/10\n",
            "\u001b[1m96/96\u001b[0m \u001b[32m━━━━━━━━━━━━━━━━━━━━\u001b[0m\u001b[37m\u001b[0m \u001b[1m8s\u001b[0m 80ms/step - accuracy: 0.8318 - loss: 0.7275 - val_accuracy: 0.7214 - val_loss: 1.9298\n",
            "Epoch 10/10\n",
            "\u001b[1m96/96\u001b[0m \u001b[32m━━━━━━━━━━━━━━━━━━━━\u001b[0m\u001b[37m\u001b[0m \u001b[1m9s\u001b[0m 87ms/step - accuracy: 0.8651 - loss: 0.5800 - val_accuracy: 0.7771 - val_loss: 1.8153\n",
            "\n",
            "\n",
            "0.1\n",
            "Epoch 1/10\n",
            "\u001b[1m96/96\u001b[0m \u001b[32m━━━━━━━━━━━━━━━━━━━━\u001b[0m\u001b[37m\u001b[0m \u001b[1m24s\u001b[0m 177ms/step - accuracy: 0.3210 - loss: 61.7306 - val_accuracy: 0.6452 - val_loss: 15.8219\n",
            "Epoch 2/10\n",
            "\u001b[1m96/96\u001b[0m \u001b[32m━━━━━━━━━━━━━━━━━━━━\u001b[0m\u001b[37m\u001b[0m \u001b[1m11s\u001b[0m 115ms/step - accuracy: 0.6497 - loss: 17.1550 - val_accuracy: 0.7331 - val_loss: 13.1763\n",
            "Epoch 3/10\n",
            "\u001b[1m96/96\u001b[0m \u001b[32m━━━━━━━━━━━━━━━━━━━━\u001b[0m\u001b[37m\u001b[0m \u001b[1m9s\u001b[0m 88ms/step - accuracy: 0.6992 - loss: 15.1696 - val_accuracy: 0.6686 - val_loss: 23.3431\n",
            "Epoch 4/10\n",
            "\u001b[1m96/96\u001b[0m \u001b[32m━━━━━━━━━━━━━━━━━━━━\u001b[0m\u001b[37m\u001b[0m \u001b[1m9s\u001b[0m 77ms/step - accuracy: 0.7357 - loss: 15.7916 - val_accuracy: 0.7595 - val_loss: 11.9742\n",
            "Epoch 5/10\n",
            "\u001b[1m96/96\u001b[0m \u001b[32m━━━━━━━━━━━━━━━━━━━━\u001b[0m\u001b[37m\u001b[0m \u001b[1m11s\u001b[0m 83ms/step - accuracy: 0.8255 - loss: 10.5126 - val_accuracy: 0.7243 - val_loss: 15.4631\n",
            "Epoch 6/10\n",
            "\u001b[1m96/96\u001b[0m \u001b[32m━━━━━━━━━━━━━━━━━━━━\u001b[0m\u001b[37m\u001b[0m \u001b[1m11s\u001b[0m 93ms/step - accuracy: 0.7750 - loss: 11.6127 - val_accuracy: 0.7683 - val_loss: 16.5396\n",
            "Epoch 7/10\n",
            "\u001b[1m96/96\u001b[0m \u001b[32m━━━━━━━━━━━━━━━━━━━━\u001b[0m\u001b[37m\u001b[0m \u001b[1m14s\u001b[0m 129ms/step - accuracy: 0.7592 - loss: 13.3031 - val_accuracy: 0.7566 - val_loss: 21.0938\n",
            "Epoch 8/10\n",
            "\u001b[1m96/96\u001b[0m \u001b[32m━━━━━━━━━━━━━━━━━━━━\u001b[0m\u001b[37m\u001b[0m \u001b[1m16s\u001b[0m 78ms/step - accuracy: 0.7660 - loss: 13.4952 - val_accuracy: 0.7185 - val_loss: 14.8329\n",
            "Epoch 9/10\n",
            "\u001b[1m96/96\u001b[0m \u001b[32m━━━━━━━━━━━━━━━━━━━━\u001b[0m\u001b[37m\u001b[0m \u001b[1m9s\u001b[0m 88ms/step - accuracy: 0.8492 - loss: 6.4635 - val_accuracy: 0.7830 - val_loss: 13.0388\n",
            "Epoch 10/10\n",
            "\u001b[1m96/96\u001b[0m \u001b[32m━━━━━━━━━━━━━━━━━━━━\u001b[0m\u001b[37m\u001b[0m \u001b[1m11s\u001b[0m 96ms/step - accuracy: 0.9070 - loss: 2.5090 - val_accuracy: 0.6979 - val_loss: 23.7324\n",
            "\n",
            "\n"
          ]
        }
      ]
    },
    {
      "cell_type": "code",
      "source": [
        "for lr, hist in scores.items():\n",
        "  plt.plot(hist['val_accuracy'], label=lr)\n",
        "plt.xticks(np.arange(10))\n",
        "plt.legend()"
      ],
      "metadata": {
        "id": "COTfgw2NW2qb",
        "outputId": "b109da48-b369-4143-c1cf-fe0a96db5912",
        "colab": {
          "base_uri": "https://localhost:8080/",
          "height": 447
        }
      },
      "execution_count": 41,
      "outputs": [
        {
          "output_type": "execute_result",
          "data": {
            "text/plain": [
              "<matplotlib.legend.Legend at 0x7d7be8cfe4d0>"
            ]
          },
          "metadata": {},
          "execution_count": 41
        },
        {
          "output_type": "display_data",
          "data": {
            "text/plain": [
              "<Figure size 640x480 with 1 Axes>"
            ],
            "image/png": "[encoded data removed]"
          },
          "metadata": {}
        }
      ]
    },
    {
      "cell_type": "code",
      "source": [
        "for lr, hist in scores.items():\n",
        "  plt.plot(hist['accuracy'], label=lr)\n",
        "plt.xticks(np.arange(10))\n",
        "plt.legend()"
      ],
      "metadata": {
        "id": "9aWxE3kPRKf6",
        "outputId": "aba70166-4d36-4bc8-988e-83b1f49b5a22",
        "colab": {
          "base_uri": "https://localhost:8080/",
          "height": 447
        }
      },
      "execution_count": 40,
      "outputs": [
        {
          "output_type": "execute_result",
          "data": {
            "text/plain": [
              "<matplotlib.legend.Legend at 0x7d7be9882dd0>"
            ]
          },
          "metadata": {},
          "execution_count": 40
        },
        {
          "output_type": "display_data",
          "data": {
            "text/plain": [
              "<Figure size 640x480 with 1 Axes>"
            ],
            "image/png": "[encoded data removed]"
          },
          "metadata": {}
        }
      ]
    },
    {
      "cell_type": "code",
      "source": [
        "learning_rate = 0.001"
      ],
      "metadata": {
        "id": "Zqyd_GUdXAkf"
      },
      "execution_count": 42,
      "outputs": []
    },
    {
      "cell_type": "markdown",
      "source": [
        "## Checkpoints"
      ],
      "metadata": {
        "id": "Ux-FmT9MXkF9"
      }
    },
    {
      "cell_type": "code",
      "source": [
        "model.save_weights('model_v1.weights.h5')"
      ],
      "metadata": {
        "id": "OQ5ti3kaXzaT"
      },
      "execution_count": 46,
      "outputs": []
    },
    {
      "cell_type": "markdown",
      "source": [],
      "metadata": {
        "id": "WFAFNlrGYRMh"
      }
    },
    {
      "cell_type": "code",
      "source": [
        "'xception_v1_{epoch:02d}_{validation_accuracy:.3f}.h5'.format(epoch=3, validation_accuracy =0.84)"
      ],
      "metadata": {
        "id": "UvYZc6vIYKrW",
        "outputId": "57b9ffb2-fbe3-43e4-87a2-ac3b62e0c6c3",
        "colab": {
          "base_uri": "https://localhost:8080/",
          "height": 35
        }
      },
      "execution_count": 50,
      "outputs": [
        {
          "output_type": "execute_result",
          "data": {
            "text/plain": [
              "'xception_v1_03_0.840.h5'"
            ],
            "application/vnd.google.colaboratory.intrinsic+json": {
              "type": "string"
            }
          },
          "metadata": {},
          "execution_count": 50
        }
      ]
    },
    {
      "cell_type": "code",
      "source": [
        "checkpoint = keras.callbacks.ModelCheckpoint(\n",
        "    'xception_v1_{epoch:02d}_{val_accuracy:.3f}.keras',\n",
        "    save_best_only = True,\n",
        "    monitor= 'val_accuracy',\n",
        "    mode = 'max'\n",
        "    )"
      ],
      "metadata": {
        "id": "rA2mmknJXMcp"
      },
      "execution_count": 56,
      "outputs": []
    },
    {
      "cell_type": "code",
      "source": [
        "learning_rate = 0.001\n",
        "\n",
        "model = make_model(learning_rate = learning_rate)\n",
        "\n",
        "history = model.fit(\n",
        "    train_ds,\n",
        "    epochs=10,\n",
        "    validation_data =val_ds,\n",
        "    callbacks =[checkpoint]\n",
        ")"
      ],
      "metadata": {
        "id": "_wE9_3EbZnWq",
        "outputId": "862c75f0-0a38-422f-c264-56f2eb8a40bc",
        "colab": {
          "base_uri": "https://localhost:8080/"
        }
      },
      "execution_count": 57,
      "outputs": [
        {
          "output_type": "stream",
          "name": "stdout",
          "text": [
            "Epoch 1/10\n",
            "\u001b[1m96/96\u001b[0m \u001b[32m━━━━━━━━━━━━━━━━━━━━\u001b[0m\u001b[37m\u001b[0m \u001b[1m22s\u001b[0m 159ms/step - accuracy: 0.3080 - loss: 2.2630 - val_accuracy: 0.6305 - val_loss: 1.1283\n",
            "Epoch 2/10\n",
            "\u001b[1m96/96\u001b[0m \u001b[32m━━━━━━━━━━━━━━━━━━━━\u001b[0m\u001b[37m\u001b[0m \u001b[1m10s\u001b[0m 94ms/step - accuracy: 0.6587 - loss: 1.0003 - val_accuracy: 0.7214 - val_loss: 0.8269\n",
            "Epoch 3/10\n",
            "\u001b[1m96/96\u001b[0m \u001b[32m━━━━━━━━━━━━━━━━━━━━\u001b[0m\u001b[37m\u001b[0m \u001b[1m10s\u001b[0m 95ms/step - accuracy: 0.7507 - loss: 0.7460 - val_accuracy: 0.7566 - val_loss: 0.7729\n",
            "Epoch 4/10\n",
            "\u001b[1m96/96\u001b[0m \u001b[32m━━━━━━━━━━━━━━━━━━━━\u001b[0m\u001b[37m\u001b[0m \u001b[1m8s\u001b[0m 81ms/step - accuracy: 0.7702 - loss: 0.6846 - val_accuracy: 0.7507 - val_loss: 0.7782\n",
            "Epoch 5/10\n",
            "\u001b[1m96/96\u001b[0m \u001b[32m━━━━━━━━━━━━━━━━━━━━\u001b[0m\u001b[37m\u001b[0m \u001b[1m8s\u001b[0m 81ms/step - accuracy: 0.7655 - loss: 0.6627 - val_accuracy: 0.7331 - val_loss: 0.7870\n",
            "Epoch 6/10\n",
            "\u001b[1m96/96\u001b[0m \u001b[32m━━━━━━━━━━━━━━━━━━━━\u001b[0m\u001b[37m\u001b[0m \u001b[1m11s\u001b[0m 96ms/step - accuracy: 0.7524 - loss: 0.6626 - val_accuracy: 0.8035 - val_loss: 0.6205\n",
            "Epoch 7/10\n",
            "\u001b[1m96/96\u001b[0m \u001b[32m━━━━━━━━━━━━━━━━━━━━\u001b[0m\u001b[37m\u001b[0m \u001b[1m9s\u001b[0m 88ms/step - accuracy: 0.8432 - loss: 0.4712 - val_accuracy: 0.7771 - val_loss: 0.6146\n",
            "Epoch 8/10\n",
            "\u001b[1m96/96\u001b[0m \u001b[32m━━━━━━━━━━━━━━━━━━━━\u001b[0m\u001b[37m\u001b[0m \u001b[1m8s\u001b[0m 83ms/step - accuracy: 0.8066 - loss: 0.5554 - val_accuracy: 0.7859 - val_loss: 0.5859\n",
            "Epoch 9/10\n",
            "\u001b[1m96/96\u001b[0m \u001b[32m━━━━━━━━━━━━━━━━━━━━\u001b[0m\u001b[37m\u001b[0m \u001b[1m11s\u001b[0m 89ms/step - accuracy: 0.8390 - loss: 0.4705 - val_accuracy: 0.8094 - val_loss: 0.6041\n",
            "Epoch 10/10\n",
            "\u001b[1m96/96\u001b[0m \u001b[32m━━━━━━━━━━━━━━━━━━━━\u001b[0m\u001b[37m\u001b[0m \u001b[1m10s\u001b[0m 95ms/step - accuracy: 0.8346 - loss: 0.4832 - val_accuracy: 0.7273 - val_loss: 0.7715\n"
          ]
        }
      ]
    },
    {
      "cell_type": "markdown",
      "source": [
        "## adding inner layer"
      ],
      "metadata": {
        "id": "znTZDJwqy_Iw"
      }
    },
    {
      "cell_type": "code",
      "source": [
        "def make_model(learning_rate, size_inner=100):\n",
        "  #include top = False, removes the dense layers\n",
        "  base_model = Xception(\n",
        "      weights='imagenet',\n",
        "      include_top = False,\n",
        "      input_shape=(150,150,3)\n",
        "  )\n",
        "\n",
        "  base_model.trainable = False\n",
        "\n",
        "  #################################\n",
        "  inputs = keras.Input(shape=(150,150,3))\n",
        "  base = base_model(inputs, training = False)\n",
        "  # apply average pooling\n",
        "  pooling = keras.layers.GlobalAveragePooling2D()\n",
        "  vectors = pooling(base)\n",
        "  inner = keras.layers.Dense(size_inner, activation='relu')(vectors)\n",
        "  outputs = keras.layers.Dense(10)(inner)\n",
        "\n",
        "  model = keras.Model(inputs, outputs)\n",
        "  ##################################\n",
        "\n",
        "  optimizer = keras.optimizers.Adam(learning_rate = learning_rate)\n",
        "  loss = keras.losses.CategoricalCrossentropy(from_logits = True)\n",
        "  model.compile(optimizer=optimizer, loss = loss, metrics = ['accuracy'])\n",
        "  return model\n"
      ],
      "metadata": {
        "id": "KKNCiId2a5cK"
      },
      "execution_count": 64,
      "outputs": []
    },
    {
      "cell_type": "code",
      "source": [],
      "metadata": {
        "id": "PPX6aavHgeWI"
      },
      "execution_count": null,
      "outputs": []
    },
    {
      "cell_type": "code",
      "source": [
        "learning_rate = 0.001\n",
        "\n",
        "scores= {}\n",
        "for size in [10, 100, 1000]:\n",
        "  print(size)\n",
        "\n",
        "  model = make_model(learning_rate, size_inner = size)\n",
        "  history = model.fit(train_ds, epochs = 10, validation_data = val_ds)\n",
        "  scores[size] = history.history\n",
        "  print()\n",
        "  print()"
      ],
      "metadata": {
        "id": "MLKFJYtrcI8m",
        "outputId": "8331e5f2-ec48-4b00-fa3c-10029f375f82",
        "colab": {
          "base_uri": "https://localhost:8080/"
        }
      },
      "execution_count": 62,
      "outputs": [
        {
          "output_type": "stream",
          "name": "stdout",
          "text": [
            "10\n",
            "Epoch 1/10\n",
            "\u001b[1m96/96\u001b[0m \u001b[32m━━━━━━━━━━━━━━━━━━━━\u001b[0m\u001b[37m\u001b[0m \u001b[1m21s\u001b[0m 147ms/step - accuracy: 0.1965 - loss: 2.4594 - val_accuracy: 0.3021 - val_loss: 1.9626\n",
            "Epoch 2/10\n",
            "\u001b[1m96/96\u001b[0m \u001b[32m━━━━━━━━━━━━━━━━━━━━\u001b[0m\u001b[37m\u001b[0m \u001b[1m10s\u001b[0m 95ms/step - accuracy: 0.2458 - loss: 1.9563 - val_accuracy: 0.3812 - val_loss: 1.6940\n",
            "Epoch 3/10\n",
            "\u001b[1m96/96\u001b[0m \u001b[32m━━━━━━━━━━━━━━━━━━━━\u001b[0m\u001b[37m\u001b[0m \u001b[1m9s\u001b[0m 87ms/step - accuracy: 0.4085 - loss: 1.5599 - val_accuracy: 0.5132 - val_loss: 1.4569\n",
            "Epoch 4/10\n",
            "\u001b[1m96/96\u001b[0m \u001b[32m━━━━━━━━━━━━━━━━━━━━\u001b[0m\u001b[37m\u001b[0m \u001b[1m9s\u001b[0m 88ms/step - accuracy: 0.5867 - loss: 1.3198 - val_accuracy: 0.5455 - val_loss: 1.3668\n",
            "Epoch 5/10\n",
            "\u001b[1m96/96\u001b[0m \u001b[32m━━━━━━━━━━━━━━━━━━━━\u001b[0m\u001b[37m\u001b[0m \u001b[1m10s\u001b[0m 88ms/step - accuracy: 0.5262 - loss: 1.2532 - val_accuracy: 0.5337 - val_loss: 1.2809\n",
            "Epoch 6/10\n",
            "\u001b[1m96/96\u001b[0m \u001b[32m━━━━━━━━━━━━━━━━━━━━\u001b[0m\u001b[37m\u001b[0m \u001b[1m11s\u001b[0m 94ms/step - accuracy: 0.5471 - loss: 1.3031 - val_accuracy: 0.5543 - val_loss: 1.2226\n",
            "Epoch 7/10\n",
            "\u001b[1m96/96\u001b[0m \u001b[32m━━━━━━━━━━━━━━━━━━━━\u001b[0m\u001b[37m\u001b[0m \u001b[1m9s\u001b[0m 87ms/step - accuracy: 0.5949 - loss: 1.1251 - val_accuracy: 0.5660 - val_loss: 1.2070\n",
            "Epoch 8/10\n",
            "\u001b[1m96/96\u001b[0m \u001b[32m━━━━━━━━━━━━━━━━━━━━\u001b[0m\u001b[37m\u001b[0m \u001b[1m9s\u001b[0m 87ms/step - accuracy: 0.5657 - loss: 1.1386 - val_accuracy: 0.5777 - val_loss: 1.1412\n",
            "Epoch 9/10\n",
            "\u001b[1m96/96\u001b[0m \u001b[32m━━━━━━━━━━━━━━━━━━━━\u001b[0m\u001b[37m\u001b[0m \u001b[1m9s\u001b[0m 90ms/step - accuracy: 0.5974 - loss: 1.1202 - val_accuracy: 0.5836 - val_loss: 1.1724\n",
            "Epoch 10/10\n",
            "\u001b[1m96/96\u001b[0m \u001b[32m━━━━━━━━━━━━━━━━━━━━\u001b[0m\u001b[37m\u001b[0m \u001b[1m11s\u001b[0m 109ms/step - accuracy: 0.6458 - loss: 0.9815 - val_accuracy: 0.5689 - val_loss: 1.1162\n",
            "\n",
            "\n",
            "100\n",
            "Epoch 1/10\n",
            "\u001b[1m96/96\u001b[0m \u001b[32m━━━━━━━━━━━━━━━━━━━━\u001b[0m\u001b[37m\u001b[0m \u001b[1m27s\u001b[0m 197ms/step - accuracy: 0.2402 - loss: 2.4399 - val_accuracy: 0.5161 - val_loss: 1.3977\n",
            "Epoch 2/10\n",
            "\u001b[1m96/96\u001b[0m \u001b[32m━━━━━━━━━━━━━━━━━━━━\u001b[0m\u001b[37m\u001b[0m \u001b[1m30s\u001b[0m 112ms/step - accuracy: 0.6536 - loss: 0.9993 - val_accuracy: 0.6540 - val_loss: 1.0206\n",
            "Epoch 3/10\n",
            "\u001b[1m96/96\u001b[0m \u001b[32m━━━━━━━━━━━━━━━━━━━━\u001b[0m\u001b[37m\u001b[0m \u001b[1m20s\u001b[0m 109ms/step - accuracy: 0.6914 - loss: 0.9113 - val_accuracy: 0.7507 - val_loss: 0.7841\n",
            "Epoch 4/10\n",
            "\u001b[1m96/96\u001b[0m \u001b[32m━━━━━━━━━━━━━━━━━━━━\u001b[0m\u001b[37m\u001b[0m \u001b[1m10s\u001b[0m 100ms/step - accuracy: 0.7427 - loss: 0.7470 - val_accuracy: 0.7654 - val_loss: 0.7175\n",
            "Epoch 5/10\n",
            "\u001b[1m96/96\u001b[0m \u001b[32m━━━━━━━━━━━━━━━━━━━━\u001b[0m\u001b[37m\u001b[0m \u001b[1m11s\u001b[0m 108ms/step - accuracy: 0.7552 - loss: 0.6980 - val_accuracy: 0.7742 - val_loss: 0.6721\n",
            "Epoch 6/10\n",
            "\u001b[1m96/96\u001b[0m \u001b[32m━━━━━━━━━━━━━━━━━━━━\u001b[0m\u001b[37m\u001b[0m \u001b[1m15s\u001b[0m 145ms/step - accuracy: 0.8105 - loss: 0.5490 - val_accuracy: 0.7977 - val_loss: 0.6166\n",
            "Epoch 7/10\n",
            "\u001b[1m96/96\u001b[0m \u001b[32m━━━━━━━━━━━━━━━━━━━━\u001b[0m\u001b[37m\u001b[0m \u001b[1m15s\u001b[0m 92ms/step - accuracy: 0.8295 - loss: 0.5021 - val_accuracy: 0.7977 - val_loss: 0.5690\n",
            "Epoch 8/10\n",
            "\u001b[1m96/96\u001b[0m \u001b[32m━━━━━━━━━━━━━━━━━━━━\u001b[0m\u001b[37m\u001b[0m \u001b[1m10s\u001b[0m 87ms/step - accuracy: 0.8765 - loss: 0.3781 - val_accuracy: 0.7771 - val_loss: 0.6156\n",
            "Epoch 9/10\n",
            "\u001b[1m96/96\u001b[0m \u001b[32m━━━━━━━━━━━━━━━━━━━━\u001b[0m\u001b[37m\u001b[0m \u001b[1m10s\u001b[0m 86ms/step - accuracy: 0.8551 - loss: 0.4075 - val_accuracy: 0.8065 - val_loss: 0.5480\n",
            "Epoch 10/10\n",
            "\u001b[1m96/96\u001b[0m \u001b[32m━━━━━━━━━━━━━━━━━━━━\u001b[0m\u001b[37m\u001b[0m \u001b[1m10s\u001b[0m 84ms/step - accuracy: 0.8842 - loss: 0.3402 - val_accuracy: 0.7566 - val_loss: 0.7781\n",
            "\n",
            "\n",
            "1000\n",
            "Epoch 1/10\n",
            "\u001b[1m96/96\u001b[0m \u001b[32m━━━━━━━━━━━━━━━━━━━━\u001b[0m\u001b[37m\u001b[0m \u001b[1m25s\u001b[0m 165ms/step - accuracy: 0.3618 - loss: 3.9290 - val_accuracy: 0.5161 - val_loss: 1.2889\n",
            "Epoch 2/10\n",
            "\u001b[1m96/96\u001b[0m \u001b[32m━━━━━━━━━━━━━━━━━━━━\u001b[0m\u001b[37m\u001b[0m \u001b[1m11s\u001b[0m 88ms/step - accuracy: 0.5984 - loss: 1.2198 - val_accuracy: 0.7038 - val_loss: 0.8921\n",
            "Epoch 3/10\n",
            "\u001b[1m96/96\u001b[0m \u001b[32m━━━━━━━━━━━━━━━━━━━━\u001b[0m\u001b[37m\u001b[0m \u001b[1m10s\u001b[0m 104ms/step - accuracy: 0.6898 - loss: 0.8809 - val_accuracy: 0.7361 - val_loss: 0.7816\n",
            "Epoch 4/10\n",
            "\u001b[1m96/96\u001b[0m \u001b[32m━━━━━━━━━━━━━━━━━━━━\u001b[0m\u001b[37m\u001b[0m \u001b[1m11s\u001b[0m 112ms/step - accuracy: 0.7619 - loss: 0.6736 - val_accuracy: 0.7801 - val_loss: 0.6278\n",
            "Epoch 5/10\n",
            "\u001b[1m96/96\u001b[0m \u001b[32m━━━━━━━━━━━━━━━━━━━━\u001b[0m\u001b[37m\u001b[0m \u001b[1m19s\u001b[0m 95ms/step - accuracy: 0.7460 - loss: 0.6470 - val_accuracy: 0.7361 - val_loss: 0.7624\n",
            "Epoch 6/10\n",
            "\u001b[1m96/96\u001b[0m \u001b[32m━━━━━━━━━━━━━━━━━━━━\u001b[0m\u001b[37m\u001b[0m \u001b[1m9s\u001b[0m 88ms/step - accuracy: 0.7977 - loss: 0.5428 - val_accuracy: 0.7889 - val_loss: 0.6265\n",
            "Epoch 7/10\n",
            "\u001b[1m96/96\u001b[0m \u001b[32m━━━━━━━━━━━━━━━━━━━━\u001b[0m\u001b[37m\u001b[0m \u001b[1m10s\u001b[0m 84ms/step - accuracy: 0.8552 - loss: 0.3983 - val_accuracy: 0.7889 - val_loss: 0.7023\n",
            "Epoch 8/10\n",
            "\u001b[1m96/96\u001b[0m \u001b[32m━━━━━━━━━━━━━━━━━━━━\u001b[0m\u001b[37m\u001b[0m \u001b[1m10s\u001b[0m 78ms/step - accuracy: 0.8559 - loss: 0.4090 - val_accuracy: 0.7889 - val_loss: 0.7163\n",
            "Epoch 9/10\n",
            "\u001b[1m96/96\u001b[0m \u001b[32m━━━━━━━━━━━━━━━━━━━━\u001b[0m\u001b[37m\u001b[0m \u001b[1m11s\u001b[0m 80ms/step - accuracy: 0.8786 - loss: 0.3476 - val_accuracy: 0.7625 - val_loss: 0.6444\n",
            "Epoch 10/10\n",
            "\u001b[1m96/96\u001b[0m \u001b[32m━━━━━━━━━━━━━━━━━━━━\u001b[0m\u001b[37m\u001b[0m \u001b[1m9s\u001b[0m 93ms/step - accuracy: 0.8971 - loss: 0.3032 - val_accuracy: 0.8065 - val_loss: 0.6251\n",
            "\n",
            "\n"
          ]
        }
      ]
    },
    {
      "cell_type": "code",
      "source": [
        "for size, hist in scores.items():\n",
        "\n",
        "  plt.plot(hist['val_accuracy'], label=('val=%s' % size))\n",
        "\n",
        "plt.xticks(np.arange(10))\n",
        "plt.legend()\n"
      ],
      "metadata": {
        "id": "nnoLPluUcxff",
        "outputId": "e43838c9-5bca-4c9a-c938-a4748a2a4e94",
        "colab": {
          "base_uri": "https://localhost:8080/",
          "height": 447
        }
      },
      "execution_count": 63,
      "outputs": [
        {
          "output_type": "execute_result",
          "data": {
            "text/plain": [
              "<matplotlib.legend.Legend at 0x7d7be902c3a0>"
            ]
          },
          "metadata": {},
          "execution_count": 63
        },
        {
          "output_type": "display_data",
          "data": {
            "text/plain": [
              "<Figure size 640x480 with 1 Axes>"
            ],
            "image/png": "[encoded data removed]"
          },
          "metadata": {}
        }
      ]
    },
    {
      "cell_type": "markdown",
      "source": [
        "## Regularization and Dropout"
      ],
      "metadata": {
        "id": "t9rKvYM4d-is"
      }
    },
    {
      "cell_type": "markdown",
      "source": [
        "in Dropout the network sees a partially occluded datapoint in different epochs to avoid learning patterns unwanted patterns like classifying a t short based on a logo, or a background\n",
        "\n",
        "freeze asome neurons of the layer"
      ],
      "metadata": {
        "id": "LeQtJZzlfVGy"
      }
    },
    {
      "cell_type": "code",
      "source": [
        "def make_model(learning_rate, size_inner=100, drop_rate = 0.5):\n",
        "  #include top = False, removes the dense layers\n",
        "  base_model = Xception(\n",
        "      weights='imagenet',\n",
        "      include_top = False,\n",
        "      input_shape=(150,150,3)\n",
        "  )\n",
        "\n",
        "  base_model.trainable = False\n",
        "\n",
        "  #################################\n",
        "  inputs = keras.Input(shape=(150,150,3))\n",
        "  base = base_model(inputs, training = False)\n",
        "  # apply average pooling\n",
        "  pooling = keras.layers.GlobalAveragePooling2D()\n",
        "  vectors = pooling(base)\n",
        "  inner = keras.layers.Dense(size_inner, activation='relu')(vectors)\n",
        "  drop = keras.layers.Dropout(drop_rate)(inner)\n",
        "  outputs = keras.layers.Dense(10)(drop)\n",
        "\n",
        "  model = keras.Model(inputs, outputs)\n",
        "  ##################################\n",
        "\n",
        "  optimizer = keras.optimizers.Adam(learning_rate = learning_rate)\n",
        "  loss = keras.losses.CategoricalCrossentropy(from_logits = True)\n",
        "  model.compile(optimizer=optimizer, loss = loss, metrics = ['accuracy'])\n",
        "  return model\n",
        "\n"
      ],
      "metadata": {
        "id": "g-3cUSn_dx2r"
      },
      "execution_count": 65,
      "outputs": []
    },
    {
      "cell_type": "code",
      "source": [
        "learning_rate = 0.001\n",
        "size = 100\n",
        "\n",
        "scores= {}\n",
        "for droprate in [0.0, 0.2, 0.5]:\n",
        "  print(size)\n",
        "\n",
        "  model = make_model(learning_rate, size_inner = size, drop_rate=droprate)\n",
        "  history = model.fit(train_ds, epochs = 12, validation_data = val_ds)\n",
        "  scores[droprate] = history.history\n",
        "  print()\n",
        "  print()"
      ],
      "metadata": {
        "id": "K0hqsESAhEnL",
        "outputId": "e74902e5-7593-4ecc-9a77-d9371a3418cd",
        "colab": {
          "base_uri": "https://localhost:8080/"
        }
      },
      "execution_count": 75,
      "outputs": [
        {
          "output_type": "stream",
          "name": "stdout",
          "text": [
            "100\n",
            "Epoch 1/12\n",
            "\u001b[1m96/96\u001b[0m \u001b[32m━━━━━━━━━━━━━━━━━━━━\u001b[0m\u001b[37m\u001b[0m \u001b[1m25s\u001b[0m 175ms/step - accuracy: 0.3246 - loss: 2.2575 - val_accuracy: 0.5806 - val_loss: 1.2020\n",
            "Epoch 2/12\n",
            "\u001b[1m96/96\u001b[0m \u001b[32m━━━━━━━━━━━━━━━━━━━━\u001b[0m\u001b[37m\u001b[0m \u001b[1m10s\u001b[0m 104ms/step - accuracy: 0.5728 - loss: 1.2497 - val_accuracy: 0.6950 - val_loss: 0.8930\n",
            "Epoch 3/12\n",
            "\u001b[1m96/96\u001b[0m \u001b[32m━━━━━━━━━━━━━━━━━━━━\u001b[0m\u001b[37m\u001b[0m \u001b[1m18s\u001b[0m 81ms/step - accuracy: 0.7238 - loss: 0.8368 - val_accuracy: 0.6979 - val_loss: 0.8828\n",
            "Epoch 4/12\n",
            "\u001b[1m96/96\u001b[0m \u001b[32m━━━━━━━━━━━━━━━━━━━━\u001b[0m\u001b[37m\u001b[0m \u001b[1m10s\u001b[0m 79ms/step - accuracy: 0.7200 - loss: 0.8031 - val_accuracy: 0.8035 - val_loss: 0.7013\n",
            "Epoch 5/12\n",
            "\u001b[1m96/96\u001b[0m \u001b[32m━━━━━━━━━━━━━━━━━━━━\u001b[0m\u001b[37m\u001b[0m \u001b[1m10s\u001b[0m 104ms/step - accuracy: 0.7632 - loss: 0.7035 - val_accuracy: 0.7566 - val_loss: 0.7208\n",
            "Epoch 6/12\n",
            "\u001b[1m96/96\u001b[0m \u001b[32m━━━━━━━━━━━━━━━━━━━━\u001b[0m\u001b[37m\u001b[0m \u001b[1m21s\u001b[0m 103ms/step - accuracy: 0.7894 - loss: 0.5928 - val_accuracy: 0.8182 - val_loss: 0.6191\n",
            "Epoch 7/12\n",
            "\u001b[1m96/96\u001b[0m \u001b[32m━━━━━━━━━━━━━━━━━━━━\u001b[0m\u001b[37m\u001b[0m \u001b[1m11s\u001b[0m 109ms/step - accuracy: 0.8219 - loss: 0.5318 - val_accuracy: 0.7625 - val_loss: 0.6629\n",
            "Epoch 8/12\n",
            "\u001b[1m96/96\u001b[0m \u001b[32m━━━━━━━━━━━━━━━━━━━━\u001b[0m\u001b[37m\u001b[0m \u001b[1m8s\u001b[0m 78ms/step - accuracy: 0.8294 - loss: 0.4859 - val_accuracy: 0.7947 - val_loss: 0.5991\n",
            "Epoch 9/12\n",
            "\u001b[1m96/96\u001b[0m \u001b[32m━━━━━━━━━━━━━━━━━━━━\u001b[0m\u001b[37m\u001b[0m \u001b[1m10s\u001b[0m 97ms/step - accuracy: 0.8574 - loss: 0.4163 - val_accuracy: 0.7595 - val_loss: 0.7256\n",
            "Epoch 10/12\n",
            "\u001b[1m96/96\u001b[0m \u001b[32m━━━━━━━━━━━━━━━━━━━━\u001b[0m\u001b[37m\u001b[0m \u001b[1m9s\u001b[0m 89ms/step - accuracy: 0.8660 - loss: 0.3918 - val_accuracy: 0.7625 - val_loss: 0.6620\n",
            "Epoch 11/12\n",
            "\u001b[1m96/96\u001b[0m \u001b[32m━━━━━━━━━━━━━━━━━━━━\u001b[0m\u001b[37m\u001b[0m \u001b[1m8s\u001b[0m 79ms/step - accuracy: 0.8510 - loss: 0.4033 - val_accuracy: 0.7830 - val_loss: 0.6094\n",
            "Epoch 12/12\n",
            "\u001b[1m96/96\u001b[0m \u001b[32m━━━━━━━━━━━━━━━━━━━━\u001b[0m\u001b[37m\u001b[0m \u001b[1m9s\u001b[0m 90ms/step - accuracy: 0.8747 - loss: 0.3537 - val_accuracy: 0.8006 - val_loss: 0.5724\n",
            "\n",
            "\n",
            "100\n",
            "Epoch 1/12\n",
            "\u001b[1m96/96\u001b[0m \u001b[32m━━━━━━━━━━━━━━━━━━━━\u001b[0m\u001b[37m\u001b[0m \u001b[1m24s\u001b[0m 168ms/step - accuracy: 0.2982 - loss: 2.5224 - val_accuracy: 0.6129 - val_loss: 1.3478\n",
            "Epoch 2/12\n",
            "\u001b[1m96/96\u001b[0m \u001b[32m━━━━━━━━━━━━━━━━━━━━\u001b[0m\u001b[37m\u001b[0m \u001b[1m8s\u001b[0m 83ms/step - accuracy: 0.6090 - loss: 1.2364 - val_accuracy: 0.7419 - val_loss: 0.9606\n",
            "Epoch 3/12\n",
            "\u001b[1m96/96\u001b[0m \u001b[32m━━━━━━━━━━━━━━━━━━━━\u001b[0m\u001b[37m\u001b[0m \u001b[1m9s\u001b[0m 84ms/step - accuracy: 0.6431 - loss: 1.0432 - val_accuracy: 0.7390 - val_loss: 0.8617\n",
            "Epoch 4/12\n",
            "\u001b[1m96/96\u001b[0m \u001b[32m━━━━━━━━━━━━━━━━━━━━\u001b[0m\u001b[37m\u001b[0m \u001b[1m11s\u001b[0m 91ms/step - accuracy: 0.7113 - loss: 0.8624 - val_accuracy: 0.7683 - val_loss: 0.7174\n",
            "Epoch 5/12\n",
            "\u001b[1m96/96\u001b[0m \u001b[32m━━━━━━━━━━━━━━━━━━━━\u001b[0m\u001b[37m\u001b[0m \u001b[1m10s\u001b[0m 90ms/step - accuracy: 0.7404 - loss: 0.7391 - val_accuracy: 0.7771 - val_loss: 0.7084\n",
            "Epoch 6/12\n",
            "\u001b[1m96/96\u001b[0m \u001b[32m━━━━━━━━━━━━━━━━━━━━\u001b[0m\u001b[37m\u001b[0m \u001b[1m10s\u001b[0m 86ms/step - accuracy: 0.7606 - loss: 0.6973 - val_accuracy: 0.7801 - val_loss: 0.6615\n",
            "Epoch 7/12\n",
            "\u001b[1m96/96\u001b[0m \u001b[32m━━━━━━━━━━━━━━━━━━━━\u001b[0m\u001b[37m\u001b[0m \u001b[1m10s\u001b[0m 86ms/step - accuracy: 0.7593 - loss: 0.6555 - val_accuracy: 0.8123 - val_loss: 0.5922\n",
            "Epoch 8/12\n",
            "\u001b[1m96/96\u001b[0m \u001b[32m━━━━━━━━━━━━━━━━━━━━\u001b[0m\u001b[37m\u001b[0m \u001b[1m9s\u001b[0m 93ms/step - accuracy: 0.7882 - loss: 0.5950 - val_accuracy: 0.8123 - val_loss: 0.6005\n",
            "Epoch 9/12\n",
            "\u001b[1m96/96\u001b[0m \u001b[32m━━━━━━━━━━━━━━━━━━━━\u001b[0m\u001b[37m\u001b[0m \u001b[1m10s\u001b[0m 96ms/step - accuracy: 0.8250 - loss: 0.5123 - val_accuracy: 0.7918 - val_loss: 0.6098\n",
            "Epoch 10/12\n",
            "\u001b[1m96/96\u001b[0m \u001b[32m━━━━━━━━━━━━━━━━━━━━\u001b[0m\u001b[37m\u001b[0m \u001b[1m9s\u001b[0m 83ms/step - accuracy: 0.7885 - loss: 0.5662 - val_accuracy: 0.7918 - val_loss: 0.6391\n",
            "Epoch 11/12\n",
            "\u001b[1m96/96\u001b[0m \u001b[32m━━━━━━━━━━━━━━━━━━━━\u001b[0m\u001b[37m\u001b[0m \u001b[1m9s\u001b[0m 85ms/step - accuracy: 0.8493 - loss: 0.4306 - val_accuracy: 0.7625 - val_loss: 0.6585\n",
            "Epoch 12/12\n",
            "\u001b[1m96/96\u001b[0m \u001b[32m━━━━━━━━━━━━━━━━━━━━\u001b[0m\u001b[37m\u001b[0m \u001b[1m11s\u001b[0m 96ms/step - accuracy: 0.8657 - loss: 0.4012 - val_accuracy: 0.8035 - val_loss: 0.5883\n",
            "\n",
            "\n",
            "100\n",
            "Epoch 1/12\n",
            "\u001b[1m96/96\u001b[0m \u001b[32m━━━━━━━━━━━━━━━━━━━━\u001b[0m\u001b[37m\u001b[0m \u001b[1m22s\u001b[0m 146ms/step - accuracy: 0.2965 - loss: 2.5551 - val_accuracy: 0.5689 - val_loss: 1.2224\n",
            "Epoch 2/12\n",
            "\u001b[1m96/96\u001b[0m \u001b[32m━━━━━━━━━━━━━━━━━━━━\u001b[0m\u001b[37m\u001b[0m \u001b[1m13s\u001b[0m 96ms/step - accuracy: 0.4861 - loss: 1.4179 - val_accuracy: 0.6481 - val_loss: 1.0251\n",
            "Epoch 3/12\n",
            "\u001b[1m96/96\u001b[0m \u001b[32m━━━━━━━━━━━━━━━━━━━━\u001b[0m\u001b[37m\u001b[0m \u001b[1m9s\u001b[0m 85ms/step - accuracy: 0.5575 - loss: 1.2404 - val_accuracy: 0.7155 - val_loss: 0.9260\n",
            "Epoch 4/12\n",
            "\u001b[1m96/96\u001b[0m \u001b[32m━━━━━━━━━━━━━━━━━━━━\u001b[0m\u001b[37m\u001b[0m \u001b[1m11s\u001b[0m 91ms/step - accuracy: 0.6373 - loss: 1.0740 - val_accuracy: 0.7449 - val_loss: 0.8139\n",
            "Epoch 5/12\n",
            "\u001b[1m96/96\u001b[0m \u001b[32m━━━━━━━━━━━━━━━━━━━━\u001b[0m\u001b[37m\u001b[0m \u001b[1m9s\u001b[0m 80ms/step - accuracy: 0.6471 - loss: 1.0175 - val_accuracy: 0.7185 - val_loss: 0.7947\n",
            "Epoch 6/12\n",
            "\u001b[1m96/96\u001b[0m \u001b[32m━━━━━━━━━━━━━━━━━━━━\u001b[0m\u001b[37m\u001b[0m \u001b[1m11s\u001b[0m 91ms/step - accuracy: 0.6401 - loss: 0.9745 - val_accuracy: 0.7771 - val_loss: 0.6703\n",
            "Epoch 7/12\n",
            "\u001b[1m96/96\u001b[0m \u001b[32m━━━━━━━━━━━━━━━━━━━━\u001b[0m\u001b[37m\u001b[0m \u001b[1m9s\u001b[0m 91ms/step - accuracy: 0.7278 - loss: 0.7582 - val_accuracy: 0.7830 - val_loss: 0.6829\n",
            "Epoch 8/12\n",
            "\u001b[1m96/96\u001b[0m \u001b[32m━━━━━━━━━━━━━━━━━━━━\u001b[0m\u001b[37m\u001b[0m \u001b[1m10s\u001b[0m 89ms/step - accuracy: 0.7444 - loss: 0.7207 - val_accuracy: 0.7654 - val_loss: 0.6833\n",
            "Epoch 9/12\n",
            "\u001b[1m96/96\u001b[0m \u001b[32m━━━━━━━━━━━━━━━━━━━━\u001b[0m\u001b[37m\u001b[0m \u001b[1m10s\u001b[0m 85ms/step - accuracy: 0.7485 - loss: 0.7070 - val_accuracy: 0.7918 - val_loss: 0.6293\n",
            "Epoch 10/12\n",
            "\u001b[1m96/96\u001b[0m \u001b[32m━━━━━━━━━━━━━━━━━━━━\u001b[0m\u001b[37m\u001b[0m \u001b[1m10s\u001b[0m 82ms/step - accuracy: 0.7823 - loss: 0.6296 - val_accuracy: 0.7654 - val_loss: 0.6484\n",
            "Epoch 11/12\n",
            "\u001b[1m96/96\u001b[0m \u001b[32m━━━━━━━━━━━━━━━━━━━━\u001b[0m\u001b[37m\u001b[0m \u001b[1m9s\u001b[0m 89ms/step - accuracy: 0.7742 - loss: 0.6619 - val_accuracy: 0.7713 - val_loss: 0.6649\n",
            "Epoch 12/12\n",
            "\u001b[1m96/96\u001b[0m \u001b[32m━━━━━━━━━━━━━━━━━━━━\u001b[0m\u001b[37m\u001b[0m \u001b[1m10s\u001b[0m 92ms/step - accuracy: 0.7710 - loss: 0.6168 - val_accuracy: 0.8123 - val_loss: 0.5971\n",
            "\n",
            "\n"
          ]
        }
      ]
    },
    {
      "cell_type": "code",
      "source": [
        "for droprate, hist in scores.items():\n",
        "  print(droprate)\n",
        "  plt.plot(hist['val_accuracy'], label=('val=%s' % droprate))\n",
        "\n",
        "plt.xticks(np.arange(12))\n",
        "plt.legend()"
      ],
      "metadata": {
        "id": "zQ5H_a44hyUx",
        "outputId": "141de678-81a8-49b3-be3a-dc8f382d5be0",
        "colab": {
          "base_uri": "https://localhost:8080/",
          "height": 499
        }
      },
      "execution_count": 76,
      "outputs": [
        {
          "output_type": "stream",
          "name": "stdout",
          "text": [
            "0.0\n",
            "0.2\n",
            "0.5\n"
          ]
        },
        {
          "output_type": "execute_result",
          "data": {
            "text/plain": [
              "<matplotlib.legend.Legend at 0x7d7bd2b7a9e0>"
            ]
          },
          "metadata": {},
          "execution_count": 76
        },
        {
          "output_type": "display_data",
          "data": {
            "text/plain": [
              "<Figure size 640x480 with 1 Axes>"
            ],
            "image/png": "[encoded data removed]"
          },
          "metadata": {}
        }
      ]
    },
    {
      "cell_type": "code",
      "source": [
        "hist = scores[0.5]\n",
        "plt.plot(hist['val_accuracy'], label=('val=%s' % droprate))\n",
        "plt.plot(hist['accuracy'], label=('train=%s' % droprate))\n",
        "plt.legend()"
      ],
      "metadata": {
        "id": "FqGGXs5qiI5d",
        "outputId": "990eeb8d-3f1b-44a6-ccdb-8982db990f8c",
        "colab": {
          "base_uri": "https://localhost:8080/",
          "height": 447
        }
      },
      "execution_count": 79,
      "outputs": [
        {
          "output_type": "execute_result",
          "data": {
            "text/plain": [
              "<matplotlib.legend.Legend at 0x7d7bd2be1e70>"
            ]
          },
          "metadata": {},
          "execution_count": 79
        },
        {
          "output_type": "display_data",
          "data": {
            "text/plain": [
              "<Figure size 640x480 with 1 Axes>"
            ],
            "image/png": "[encoded data removed]"
          },
          "metadata": {}
        }
      ]
    },
    {
      "cell_type": "markdown",
      "source": [
        "preferable to take an accuracy at a lower epoch than same accuracy but later epoc, cause gth emodel overfits\n",
        "\n",
        "Dropout prevents overfitting so it is better than none"
      ],
      "metadata": {
        "id": "MZ298MbjikUk"
      }
    },
    {
      "cell_type": "markdown",
      "source": [
        "## Data augementation"
      ],
      "metadata": {
        "id": "7mbKYqnShpZq"
      }
    },
    {
      "cell_type": "markdown",
      "source": [
        "Generate variations od input images  \n",
        "flip, vertical or horizontal  \n",
        "rotation\n",
        "shifting (translation)  \n",
        "shear  \n",
        "zoom\n",
        "brightness and contrast  \n",
        "black patch\n",
        "can also be combined"
      ],
      "metadata": {
        "id": "dhCuN9uljkmp"
      }
    },
    {
      "cell_type": "code",
      "source": [
        "train_gen = ImageDataGenerator(\n",
        "    preprocessing_function=preprocess_input,\n",
        "    #rotation_range=30, performance got worse\n",
        "    ##width_shift_range=10.0,\n",
        "    #height_shift_range=10.0,\n",
        "    shear_range=10,\n",
        "    zoom_range=0.1,\n",
        "    vertical_flip=True\n",
        ")\n",
        "\n",
        "val_ds = val_gen.flow_from_directory(\n",
        "    './clothing-dataset-small/validation',\n",
        "    target_size=(150,150),\n",
        "    batch_size=32\n",
        ")\n",
        "\n",
        "train_ds = train_gen.flow_from_directory(\n",
        "    './clothing-dataset-small/train',\n",
        "    target_size=(150,150),\n",
        "    batch_size=32,\n",
        "    shuffle = False\n",
        ")"
      ],
      "metadata": {
        "id": "24SMsBQzjhiy",
        "outputId": "54e25f03-9013-4cbf-e8ab-b4f6895fa5e0",
        "colab": {
          "base_uri": "https://localhost:8080/"
        }
      },
      "execution_count": 80,
      "outputs": [
        {
          "output_type": "stream",
          "name": "stdout",
          "text": [
            "Found 341 images belonging to 10 classes.\n",
            "Found 3068 images belonging to 10 classes.\n"
          ]
        }
      ]
    },
    {
      "cell_type": "code",
      "source": [
        "learning_rate = 0.001\n",
        "size = 100\n",
        "droprate = 0.2\n",
        "scores= {}\n",
        "#for droprate in [0.0, 0.2, 0.5]:\n",
        "  #print(size)\n",
        "\n",
        "model = make_model(learning_rate, size_inner = size, drop_rate=droprate)\n",
        "history = model.fit(train_ds, epochs = 50, validation_data = val_ds)\n",
        "scores[droprate] = history.history\n",
        "print()\n",
        "print()"
      ],
      "metadata": {
        "id": "3szM9FNThpBu"
      },
      "execution_count": null,
      "outputs": []
    },
    {
      "cell_type": "markdown",
      "source": [
        "use tf.data to preprocess the next batch while running the training step and reduce time drastically"
      ],
      "metadata": {
        "id": "e8Ty6R-jrkqS"
      }
    },
    {
      "cell_type": "markdown",
      "source": [
        "## Train a larger model"
      ],
      "metadata": {
        "id": "VOTBm-m_sqOh"
      }
    },
    {
      "cell_type": "code",
      "source": [
        "def make_model(input_size = 150, learning_rate=0.01, size_inner=100, drop_rate = 0.5):\n",
        "  #include top = False, removes the dense layers\n",
        "  base_model = Xception(\n",
        "      weights='imagenet',\n",
        "      include_top = False,\n",
        "      input_shape=(input_size,input_size,3)\n",
        "  )\n",
        "\n",
        "  base_model.trainable = False\n",
        "\n",
        "  #################################\n",
        "  inputs = keras.Input(shape=(input_size,input_size,3))\n",
        "  base = base_model(inputs, training = False)\n",
        "  # apply average pooling\n",
        "  pooling = keras.layers.GlobalAveragePooling2D()\n",
        "  vectors = pooling(base)\n",
        "  inner = keras.layers.Dense(size_inner, activation='relu')(vectors)\n",
        "  drop = keras.layers.Dropout(drop_rate)(inner)\n",
        "  outputs = keras.layers.Dense(10)(drop)\n",
        "\n",
        "  model = keras.Model(inputs, outputs)\n",
        "  ##################################\n",
        "\n",
        "  optimizer = keras.optimizers.Adam(learning_rate = learning_rate)\n",
        "  loss = keras.losses.CategoricalCrossentropy(from_logits = True)\n",
        "  model.compile(optimizer=optimizer, loss = loss, metrics = ['accuracy'])\n",
        "  return model"
      ],
      "metadata": {
        "id": "CP_lanpPha7L"
      },
      "execution_count": 86,
      "outputs": []
    },
    {
      "cell_type": "code",
      "source": [
        "checkpoint = keras.callbacks.ModelCheckpoint(\n",
        "    'xception_v4_{epoch:02d}_{val_accuracy:.3f}.keras',\n",
        "    save_best_only = True,\n",
        "    monitor= 'val_accuracy',\n",
        "    mode = 'max'\n",
        "    )"
      ],
      "metadata": {
        "id": "B5B8hvEst9xu"
      },
      "execution_count": 87,
      "outputs": []
    },
    {
      "cell_type": "code",
      "source": [
        "train_gen = ImageDataGenerator(\n",
        "    preprocessing_function=preprocess_input,\n",
        "    #rotation_range=30, performance got worse\n",
        "    ##width_shift_range=10.0,\n",
        "    #height_shift_range=10.0,\n",
        "    shear_range=10,\n",
        "    zoom_range=0.1,\n",
        "    vertical_flip=True\n",
        ")\n",
        "\n",
        "val_ds = val_gen.flow_from_directory(\n",
        "    './clothing-dataset-small/validation',\n",
        "    target_size=(299,299),\n",
        "    batch_size=32\n",
        ")\n",
        "\n",
        "train_ds = train_gen.flow_from_directory(\n",
        "    './clothing-dataset-small/train',\n",
        "    target_size=(299,299),\n",
        "    batch_size=32,\n",
        "    shuffle = False\n",
        ")"
      ],
      "metadata": {
        "id": "zYLTxqruuuje",
        "outputId": "9bd334c6-89bc-43b1-d644-e89a92ff6bd3",
        "colab": {
          "base_uri": "https://localhost:8080/"
        }
      },
      "execution_count": 91,
      "outputs": [
        {
          "output_type": "stream",
          "name": "stdout",
          "text": [
            "Found 341 images belonging to 10 classes.\n",
            "Found 3068 images belonging to 10 classes.\n"
          ]
        }
      ]
    },
    {
      "cell_type": "code",
      "source": [
        "learning_rate = 0.001\n",
        "size = 100\n",
        "droprate = 0.2\n",
        "input_size = 299\n",
        "scores= {}\n",
        "#for droprate in [0.0, 0.2, 0.5]:\n",
        "  #print(size)\n",
        "\n",
        "model = make_model(\n",
        "    input_size= input_size,\n",
        "    learning_rate= learning_rate,\n",
        "    size_inner = size,\n",
        "    drop_rate=droprate\n",
        ")\n",
        "\n",
        "history = model.fit(train_ds, epochs = 10, validation_data = val_ds, callbacks=[checkpoint])\n",
        "scores[droprate] = history.history\n",
        "print()\n",
        "print()"
      ],
      "metadata": {
        "id": "aD-bNMNatKJ9",
        "outputId": "729b6b4e-2dc9-4a16-d1bf-e29f3514ddea",
        "colab": {
          "base_uri": "https://localhost:8080/"
        }
      },
      "execution_count": 93,
      "outputs": [
        {
          "output_type": "stream",
          "name": "stdout",
          "text": [
            "Epoch 1/10\n",
            "\u001b[1m96/96\u001b[0m \u001b[32m━━━━━━━━━━━━━━━━━━━━\u001b[0m\u001b[37m\u001b[0m \u001b[1m94s\u001b[0m 847ms/step - accuracy: 0.3012 - loss: 2.2413 - val_accuracy: 0.5777 - val_loss: 1.2345\n",
            "Epoch 2/10\n",
            "\u001b[1m96/96\u001b[0m \u001b[32m━━━━━━━━━━━━━━━━━━━━\u001b[0m\u001b[37m\u001b[0m \u001b[1m77s\u001b[0m 747ms/step - accuracy: 0.5252 - loss: 1.3655 - val_accuracy: 0.6804 - val_loss: 0.8905\n",
            "Epoch 3/10\n",
            "\u001b[1m96/96\u001b[0m \u001b[32m━━━━━━━━━━━━━━━━━━━━\u001b[0m\u001b[37m\u001b[0m \u001b[1m102s\u001b[0m 981ms/step - accuracy: 0.6283 - loss: 1.1663 - val_accuracy: 0.7390 - val_loss: 0.7620\n",
            "Epoch 4/10\n",
            "\u001b[1m96/96\u001b[0m \u001b[32m━━━━━━━━━━━━━━━━━━━━\u001b[0m\u001b[37m\u001b[0m \u001b[1m91s\u001b[0m 891ms/step - accuracy: 0.6916 - loss: 0.9898 - val_accuracy: 0.7713 - val_loss: 0.6537\n",
            "Epoch 5/10\n",
            "\u001b[1m96/96\u001b[0m \u001b[32m━━━━━━━━━━━━━━━━━━━━\u001b[0m\u001b[37m\u001b[0m \u001b[1m80s\u001b[0m 775ms/step - accuracy: 0.7345 - loss: 0.8187 - val_accuracy: 0.7801 - val_loss: 0.6651\n",
            "Epoch 6/10\n",
            "\u001b[1m96/96\u001b[0m \u001b[32m━━━━━━━━━━━━━━━━━━━━\u001b[0m\u001b[37m\u001b[0m \u001b[1m73s\u001b[0m 703ms/step - accuracy: 0.7508 - loss: 0.7311 - val_accuracy: 0.8123 - val_loss: 0.5705\n",
            "Epoch 7/10\n",
            "\u001b[1m96/96\u001b[0m \u001b[32m━━━━━━━━━━━━━━━━━━━━\u001b[0m\u001b[37m\u001b[0m \u001b[1m73s\u001b[0m 718ms/step - accuracy: 0.7567 - loss: 0.7011 - val_accuracy: 0.8299 - val_loss: 0.5350\n",
            "Epoch 8/10\n",
            "\u001b[1m96/96\u001b[0m \u001b[32m━━━━━━━━━━━━━━━━━━━━\u001b[0m\u001b[37m\u001b[0m \u001b[1m73s\u001b[0m 707ms/step - accuracy: 0.7623 - loss: 0.7143 - val_accuracy: 0.7595 - val_loss: 0.6643\n",
            "Epoch 9/10\n",
            "\u001b[1m96/96\u001b[0m \u001b[32m━━━━━━━━━━━━━━━━━━━━\u001b[0m\u001b[37m\u001b[0m \u001b[1m81s\u001b[0m 708ms/step - accuracy: 0.7242 - loss: 0.7957 - val_accuracy: 0.8211 - val_loss: 0.5439\n",
            "Epoch 10/10\n",
            "\u001b[1m96/96\u001b[0m \u001b[32m━━━━━━━━━━━━━━━━━━━━\u001b[0m\u001b[37m\u001b[0m \u001b[1m83s\u001b[0m 711ms/step - accuracy: 0.7523 - loss: 0.7436 - val_accuracy: 0.8182 - val_loss: 0.5328\n",
            "\n",
            "\n"
          ]
        }
      ]
    },
    {
      "cell_type": "markdown",
      "source": [
        "## testing the model"
      ],
      "metadata": {
        "id": "ePer0O0pwAj0"
      }
    },
    {
      "cell_type": "code",
      "source": [
        "import tensorflow as tf\n",
        "from tensorflow import keras"
      ],
      "metadata": {
        "id": "dbKH3lyiwAPv"
      },
      "execution_count": 102,
      "outputs": []
    },
    {
      "cell_type": "code",
      "source": [
        "model = keras.models.load_model('xception_v4_07_0.830.keras')"
      ],
      "metadata": {
        "id": "hYjumBuDtsrx"
      },
      "execution_count": 103,
      "outputs": []
    },
    {
      "cell_type": "code",
      "source": [
        "from tensorflow.keras.preprocessing.image import ImageDataGenerator\n",
        "from tensorflow.keras.applications.xception import preprocess_input"
      ],
      "metadata": {
        "id": "nHKG08AQxHyB"
      },
      "execution_count": 104,
      "outputs": []
    },
    {
      "cell_type": "code",
      "source": [
        "ls"
      ],
      "metadata": {
        "id": "jJjSudfAzp3J",
        "outputId": "38084268-5f9f-4ac0-8f8b-1475d7e97d63",
        "colab": {
          "base_uri": "https://localhost:8080/"
        }
      },
      "execution_count": 108,
      "outputs": [
        {
          "output_type": "stream",
          "name": "stdout",
          "text": [
            "\u001b[0m\u001b[01;34mclothing-dataset-small\u001b[0m/     xception_v1_09_0.809.keras  xception_v4_04_0.771.keras\n",
            "model_v1.weights.h5         xception_v4_01_0.578.keras  xception_v4_05_0.780.keras\n",
            "\u001b[01;34msample_data\u001b[0m/                xception_v4_02_0.680.keras  xception_v4_06_0.812.keras\n",
            "xception_v1_06_0.804.keras  xception_v4_03_0.739.keras  xception_v4_07_0.830.keras\n"
          ]
        }
      ]
    },
    {
      "cell_type": "code",
      "source": [
        "test_gen = ImageDataGenerator(preprocessing_function=preprocess_input)\n",
        "\n",
        "test_ds = test_gen.flow_from_directory(\n",
        "    'clothing-dataset-small/test',\n",
        "    target_size=(299,299),\n",
        "    batch_size=32\n",
        ")\n"
      ],
      "metadata": {
        "id": "VHshLrUbwtg7",
        "outputId": "61f50a85-13ce-4882-de0e-b3cc1e55a91d",
        "colab": {
          "base_uri": "https://localhost:8080/"
        }
      },
      "execution_count": 109,
      "outputs": [
        {
          "output_type": "stream",
          "name": "stdout",
          "text": [
            "Found 372 images belonging to 10 classes.\n"
          ]
        }
      ]
    },
    {
      "cell_type": "code",
      "source": [
        "model.evaluate(test_ds)"
      ],
      "metadata": {
        "id": "Oze6Gz9jxX8H",
        "outputId": "ac7f6a75-0d13-4b37-f754-3f8dea641a29",
        "colab": {
          "base_uri": "https://localhost:8080/"
        }
      },
      "execution_count": 110,
      "outputs": [
        {
          "output_type": "stream",
          "name": "stderr",
          "text": [
            "/usr/local/lib/python3.10/dist-packages/keras/src/trainers/data_adapters/py_dataset_adapter.py:121: UserWarning: Your `PyDataset` class should call `super().__init__(**kwargs)` in its constructor. `**kwargs` can include `workers`, `use_multiprocessing`, `max_queue_size`. Do not pass these arguments to `fit()`, as they will be ignored.\n",
            "  self._warn_if_super_not_called()\n"
          ]
        },
        {
          "output_type": "stream",
          "name": "stdout",
          "text": [
            "\u001b[1m12/12\u001b[0m \u001b[32m━━━━━━━━━━━━━━━━━━━━\u001b[0m\u001b[37m\u001b[0m \u001b[1m18s\u001b[0m 1s/step - accuracy: 0.8133 - loss: 0.5003\n"
          ]
        },
        {
          "output_type": "execute_result",
          "data": {
            "text/plain": [
              "[0.43859919905662537, 0.8494623899459839]"
            ]
          },
          "metadata": {},
          "execution_count": 110
        }
      ]
    },
    {
      "cell_type": "code",
      "source": [
        "path = 'clothing-dataset-small/test/pants/0dfec862-c49f-430b-a6ef-c7ceb187225e.jpg'"
      ],
      "metadata": {
        "id": "LAapEwa5xclh"
      },
      "execution_count": 111,
      "outputs": []
    },
    {
      "cell_type": "code",
      "source": [
        "img = load_img(path, target_size=(299,299))"
      ],
      "metadata": {
        "id": "agwuiP-ByG-e"
      },
      "execution_count": 112,
      "outputs": []
    },
    {
      "cell_type": "code",
      "source": [
        "import numpy as np"
      ],
      "metadata": {
        "id": "yUnrEqrpySdx"
      },
      "execution_count": 113,
      "outputs": []
    },
    {
      "cell_type": "code",
      "source": [
        "x = np.array(img)\n",
        "X = np.array([x])\n",
        "X.shape"
      ],
      "metadata": {
        "id": "mkzZ5c_EyTcW",
        "outputId": "3c925e47-c5b2-4e24-eb87-e78f737c9296",
        "colab": {
          "base_uri": "https://localhost:8080/"
        }
      },
      "execution_count": 114,
      "outputs": [
        {
          "output_type": "execute_result",
          "data": {
            "text/plain": [
              "(1, 299, 299, 3)"
            ]
          },
          "metadata": {},
          "execution_count": 114
        }
      ]
    },
    {
      "cell_type": "code",
      "source": [
        "X = preprocess_input(X)"
      ],
      "metadata": {
        "id": "kOdErilHyg7N"
      },
      "execution_count": 115,
      "outputs": []
    },
    {
      "cell_type": "code",
      "source": [
        "pred = model.predict(X)"
      ],
      "metadata": {
        "id": "5lEUUHp2ykR-",
        "outputId": "0bc49f06-a975-4020-8c25-68124b840199",
        "colab": {
          "base_uri": "https://localhost:8080/"
        }
      },
      "execution_count": 116,
      "outputs": [
        {
          "output_type": "stream",
          "name": "stdout",
          "text": [
            "\u001b[1m1/1\u001b[0m \u001b[32m━━━━━━━━━━━━━━━━━━━━\u001b[0m\u001b[37m\u001b[0m \u001b[1m2s\u001b[0m 2s/step\n"
          ]
        }
      ]
    },
    {
      "cell_type": "code",
      "source": [
        "pred[0]"
      ],
      "metadata": {
        "id": "t4wehEAwysON",
        "outputId": "3321dbd3-25f5-4dca-9d9c-3527bc2ad650",
        "colab": {
          "base_uri": "https://localhost:8080/"
        }
      },
      "execution_count": 117,
      "outputs": [
        {
          "output_type": "execute_result",
          "data": {
            "text/plain": [
              "array([-2.5598445 , -4.682142  , -0.20521203, -0.8227664 ,  5.1831923 ,\n",
              "       -1.2658001 , -2.0810783 ,  1.988449  , -2.3323476 , -4.5970945 ],\n",
              "      dtype=float32)"
            ]
          },
          "metadata": {},
          "execution_count": 117
        }
      ]
    },
    {
      "cell_type": "code",
      "source": [
        "classes = ['dress', 'hat', 'longsleeve', 'outwear', 'pants', 'shirt', 'shoes', 'shorts', 'skirt', 't-shirt']\n"
      ],
      "metadata": {
        "id": "UxaJzj7oy047"
      },
      "execution_count": 118,
      "outputs": []
    },
    {
      "cell_type": "code",
      "source": [
        "dict(zip(classes, pred[0]))"
      ],
      "metadata": {
        "id": "UI3jLDD6zYJ9",
        "outputId": "995cd1d5-d1a3-425b-eb2c-904e980565f2",
        "colab": {
          "base_uri": "https://localhost:8080/"
        }
      },
      "execution_count": 119,
      "outputs": [
        {
          "output_type": "execute_result",
          "data": {
            "text/plain": [
              "{'dress': -2.5598445,\n",
              " 'hat': -4.682142,\n",
              " 'longsleeve': -0.20521203,\n",
              " 'outwear': -0.8227664,\n",
              " 'pants': 5.1831923,\n",
              " 'shirt': -1.2658001,\n",
              " 'shoes': -2.0810783,\n",
              " 'shorts': 1.988449,\n",
              " 'skirt': -2.3323476,\n",
              " 't-shirt': -4.5970945}"
            ]
          },
          "metadata": {},
          "execution_count": 119
        }
      ]
    },
    {
      "cell_type": "code",
      "source": [
        "from tensorflow.keras.activations import softmax\n",
        "tf.keras.activations.softmax(np.array([1.3, 5.4]))\n"
      ],
      "metadata": {
        "id": "oTbzqZLX0cmS",
        "outputId": "b8ec9d79-af9f-49a9-9ebb-8f329c572881",
        "colab": {
          "base_uri": "https://localhost:8080/"
        }
      },
      "execution_count": 129,
      "outputs": [
        {
          "output_type": "execute_result",
          "data": {
            "text/plain": [
              "<tf.Tensor: shape=(2,), dtype=float64, numpy=array([0.0163025, 0.9836975])>"
            ]
          },
          "metadata": {},
          "execution_count": 129
        }
      ]
    },
    {
      "cell_type": "code",
      "source": [
        "from scipy.special import softmax"
      ],
      "metadata": {
        "id": "b54wyJsd1wj-"
      },
      "execution_count": 137,
      "outputs": []
    },
    {
      "cell_type": "code",
      "source": [
        "input = pred[0]\n",
        "result = softmax(input)\n",
        "dict(zip(classes, result))"
      ],
      "metadata": {
        "id": "jwwo9Gh3z_yF",
        "outputId": "0709ac0c-6715-4fd1-e755-b2441c87ee2d",
        "colab": {
          "base_uri": "https://localhost:8080/"
        }
      },
      "execution_count": 139,
      "outputs": [
        {
          "output_type": "execute_result",
          "data": {
            "text/plain": [
              "{'dress': 0.00041255556,\n",
              " 'hat': 4.940611e-05,\n",
              " 'longsleeve': 0.004345965,\n",
              " 'outwear': 0.0023436132,\n",
              " 'pants': 0.9511315,\n",
              " 'shirt': 0.0015048003,\n",
              " 'shoes': 0.00066589814,\n",
              " 'shorts': 0.038974565,\n",
              " 'skirt': 0.0005179442,\n",
              " 't-shirt': 5.3791788e-05}"
            ]
          },
          "metadata": {},
          "execution_count": 139
        }
      ]
    },
    {
      "cell_type": "code",
      "source": [],
      "metadata": {
        "id": "05s96f210bf4"
      },
      "execution_count": null,
      "outputs": []
    }
  ],
  "metadata": {
    "kernelspec": {
      "display_name": "Python 3",
      "name": "python3"
    },
    "language_info": {
      "codemirror_mode": {
        "name": "ipython",
        "version": 3
      },
      "file_extension": ".py",
      "mimetype": "text/x-python",
      "name": "python",
      "nbconvert_exporter": "python",
      "pygments_lexer": "ipython3",
      "version": "3.11.9"
    },
    "colab": {
      "provenance": [],
      "gpuType": "T4"
    },
    "accelerator": "GPU"
  },
  "nbformat": 4,
  "nbformat_minor": 0
}